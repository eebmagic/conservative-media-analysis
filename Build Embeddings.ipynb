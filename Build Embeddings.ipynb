{
 "cells": [
  {
   "cell_type": "markdown",
   "id": "ce498b90",
   "metadata": {},
   "source": [
    "# Imports"
   ]
  },
  {
   "cell_type": "code",
   "execution_count": 12,
   "id": "5e7bfd37",
   "metadata": {},
   "outputs": [
    {
     "name": "stderr",
     "output_type": "stream",
     "text": [
      "[nltk_data] Downloading package wordnet to /Users/ebolton/nltk_data...\n",
      "[nltk_data]   Package wordnet is already up-to-date!\n"
     ]
    },
    {
     "data": {
      "text/plain": [
       "True"
      ]
     },
     "execution_count": 12,
     "metadata": {},
     "output_type": "execute_result"
    }
   ],
   "source": [
    "from dataProcessing import getTextsInDateRange, getPairs, getFullWordset, buildTokenizer\n",
    "import numpy as np\n",
    "import tensorflow as tf\n",
    "from keras.models import Model\n",
    "from keras.layers import Input, Dense\n",
    "\n",
    "import random\n",
    "import nltk\n",
    "nltk.download('wordnet')"
   ]
  },
  {
   "cell_type": "markdown",
   "id": "fdf0efd9",
   "metadata": {},
   "source": [
    "# Conda env checking\n",
    "From article here:\n",
    "https://towardsdatascience.com/get-your-conda-environment-to-show-in-jupyter-notebooks-the-easy-way-17010b76e874\n",
    "\n",
    "If conda env is being used correctly, the environment variable below should be `base`."
   ]
  },
  {
   "cell_type": "code",
   "execution_count": 2,
   "id": "0ce9feb0",
   "metadata": {},
   "outputs": [
    {
     "name": "stdout",
     "output_type": "stream",
     "text": [
      "base\n"
     ]
    }
   ],
   "source": [
    "import os\n",
    "print(os.environ['CONDA_DEFAULT_ENV'])"
   ]
  },
  {
   "cell_type": "markdown",
   "id": "f486e10d",
   "metadata": {},
   "source": [
    "# Constants"
   ]
  },
  {
   "cell_type": "code",
   "execution_count": 3,
   "id": "b56e7b7d",
   "metadata": {},
   "outputs": [],
   "source": [
    "CHANNEL_MAPPINGS = {\n",
    "#     \"Daily Wire\": \"UCroKPvbmaQKGK5tjtQsvaDw\",\n",
    "    \"Ben Shapiro\": \"UCnQC_G5Xsjhp9fEJKuIcrSw\",\n",
    "#     \"Daily Wire Plus\": \"UCaeO5vkdj5xOQHp4UmIN6dw\",\n",
    "#     \"Matt Walsh\": \"UCO01ytfzgXYy4glnPJm4PPQ\",\n",
    "#     \"Michael Knowls\": \"UCr4kgAUTFkGIwlWSodg43QA\",\n",
    "#     \"Candace Owens\": \"UCkY4fdKOFk3Kiq7g5LLKYLw\"\n",
    "}"
   ]
  },
  {
   "cell_type": "markdown",
   "id": "2139ba75",
   "metadata": {},
   "source": [
    "# Parameters"
   ]
  },
  {
   "cell_type": "code",
   "execution_count": 4,
   "id": "9a5afd3a",
   "metadata": {},
   "outputs": [],
   "source": [
    "# channels = ['Ben Shapiro']\n",
    "channels = list(CHANNEL_MAPPINGS.keys())\n",
    "start = 2021\n",
    "stop = 2023"
   ]
  },
  {
   "cell_type": "markdown",
   "id": "1661dfc2",
   "metadata": {},
   "source": [
    "# Get Texts"
   ]
  },
  {
   "cell_type": "code",
   "execution_count": 5,
   "id": "390fe59b",
   "metadata": {},
   "outputs": [
    {
     "name": "stderr",
     "output_type": "stream",
     "text": [
      "[nltk_data] Downloading package omw-1.4 to /Users/ebolton/nltk_data...\n",
      "[nltk_data]   Package omw-1.4 is already up-to-date!\n"
     ]
    },
    {
     "name": "stdout",
     "output_type": "stream",
     "text": [
      "[['sad', 'left', 'california', 'tell', 'thought', 'one', 'day', 'decision', 'one', 'best', 'decision', 'ever', 'made', 'family', 'know', 'orthodox', 'jewish', 'faith', 'mean', 'move', 'place', 'significant', 'jewish', 'resource', 'inundation', 'homelessness', 'area', 'like', 'kid', 'could'], ['bizarre', 'new', 'world', 'created', 'counter-reality', 'new', 'world', \"we've\", 'created', 'assigning', 'sex', 'baby', 'dc', 'forcing', 'label', 'mother', \"that's\", 'case', 'throne', 'mother', 'whole', 'birth', 'certificate', 'thing', 'really', 'really', 'causing', 'lot', 'oh', 'i'], ['end', 'entire', 'group', 'people', 'single', 'woman', 'falling', 'behind', 'married', 'woman', 'engaged', 'social', 'structure', 'important', 'mediating', 'institution', 'human', 'existence', 'marriage', 'ripped', 'away', \"they've\", 'told', 'longer', 'essential', 'important', 'fact', 'many', 'way', 'institution'], ['idea', 'left', 'everybody', 'right', 'keep', 'saying', \"there's\", 'election', 'fraud', \"that's\", 'reason', \"they're\", 'losing', 'election', 'left', \"there's\", 'dual', 'narrative', 'one', 'voter', 'suppression', 'exist', 'two', 'idea', 'must', 'disinformation', 'lose', 'well', 'also', 'explains'], ['true', 'people', 'talk', 'thing', 'want', 'talked', \"that's\", 'true', 'either', 'wanted', 'cancel', 'malcolm', \"i'm\", 'sorry', 'lying', \"that's\", 'fine', 'lying', \"i've\", 'personally', 'talked', 'many', 'thing', 'mentioned', 'define', 'critical', 'critical', 'race', 'theory', 'citing'], ['i', 'think', 'capitalism', 'stupid', 'work', 'i', 'mean', 'obviously', 'look', 'country', 'work', 'okay', 'pause', 'one', 'second', 'favorite', 'people', 'wearing', 'thing', 'bought', 'store', 'much', 'nicer', 'anything', 'could', 'get', 'communist', 'country', 'capitalism', 'obviously'], ['become', 'controversial', 'suggest', 'child', 'deserves', 'mother', 'father', 'deprived', 'child', 'mother', 'father', 'would', 'make', 'child', 'abuser', 'society', 'decided', 'mother', 'father', 'longer', 'word', 'said', 'many', 'kid', 'brought', 'family', 'mother', 'father', \"can't\", 'pretend'], ['create', 'oversensitive', 'society', \"there's\", 'premium', 'placed', 'offended', 'get', 'rewarded', 'offended', 'actually', 'creating', 'mental', 'illness', 'among', 'people', 'right', 'one', 'key', 'method', 'use', 'example', 'defeat', 'depression', 'trying', 'therapy', 'cognitive', 'behavioral', 'therapy', 'chain'], ['yesterday', 'senate', 'united', 'state', 'voted', 'push', 'forward', 'same-sex', 'marriage', 'legislation', 'calling', 'respect', 'marriage', 'act', 'absurd', 'respect', 'marriage', 'act', 'fundamentally', 'change', 'definition', 'word', 'marriage', 'respect', 'marriage', 'call', 'lot', 'thing', \"can't\", 'call'], ['favorite', 'argument', \"god's\", 'existence', 'favorite', 'argument', \"god's\", 'existence', 'believe', 'free', 'okay', 'reason', 'think', 'argument', \"god's\", 'existence', 'believe', 'human', 'being', 'essentially', 'ball', 'meat', 'wandering', 'around', 'aimlessly', 'universe', 'kind', 'spinosa', 'stone', 'think']]\n",
      "\n",
      "Found 583 videos for channels: \n",
      "  - Ben Shapiro\n"
     ]
    }
   ],
   "source": [
    "nltk.download('omw-1.4')\n",
    "channelIds = [CHANNEL_MAPPINGS[c] for c in channels]\n",
    "texts = getTextsInDateRange(channelIds, start, stop, cleaned=True)\n",
    "channelstext = \"\\n  - \".join(channels)\n",
    "print([t[:30] for t in texts[:10]])\n",
    "print()\n",
    "print(f'Found {len(texts)} videos for channels: \\n  - {channelstext}')"
   ]
  },
  {
   "cell_type": "markdown",
   "id": "1f23b12a",
   "metadata": {},
   "source": [
    "# Build Pairs"
   ]
  },
  {
   "cell_type": "code",
   "execution_count": 6,
   "id": "553e0a51",
   "metadata": {},
   "outputs": [
    {
     "name": "stderr",
     "output_type": "stream",
     "text": [
      "100%|██████████████████████████████████████████████████████████████████████████████████████████████████████████████████████████| 583/583 [00:00<00:00, 834.73it/s]"
     ]
    },
    {
     "name": "stdout",
     "output_type": "stream",
     "text": [
      "[('sad', 'left'), ('sad', 'california'), ('left', 'california'), ('left', 'sad'), ('left', 'tell'), ('california', 'tell'), ('california', 'left'), ('california', 'thought'), ('california', 'sad'), ('tell', 'thought')]\n",
      "[('favorite', 'democrat'), ('photo', 'image'), ('listener', 'allform.com'), ('clear', 'thing'), ('issuing', 'letter'), ('marbled', 'fat'), ('build', 'scratch'), (\"what's\", 'joe'), ('merit', 'letter'), ('coalition', 'right'), ('idea', 'tax'), ('police', 'promoting'), ('disclosure', 'said'), ('know', 'company'), ('deserves', 'get'), ('left', 'lot'), ('troop', 'buildup'), ('hair', 'face'), ('possible', 'daily'), ('sort', 'presence'), ('long', 'remains'), ('really', 'talk'), ('perch', 'matcha'), ('really', 'think'), ('forcing', 'everybody'), ('car', 'hit'), ('shapiro', 'welcome'), ('alliance', 'party'), ('statement', 'would'), ('like', 'first'), ('brown', 'contact'), ('worth', 'haqqani'), ('pure', 'today'), ('joe', 'federal'), ('left', 'signaling'), ('taken', 'vichy'), ('huntsman', 'john'), ('journal', 'wall'), ('show', 'andrew'), ('perfect', 'right'), ('well', 'saying'), ('married', 'like'), ('okay', 'like'), ('rest', 'problem'), ('speaks', 'diversity'), ('opportunity', 'student'), ('make', 'go'), ('situation', 'continues'), ('insurance', 'palestinius'), ('undermine', 'policy'), ('obsession', 'shape'), ('fake', 'entire'), ('i', 'think'), ('thought', 'basically'), ('think', 'best'), ('terrible', 'entire'), ('injustice', 'systemic'), ('decides', 'left'), ('tune', 'sure'), ('percent', 'free'), ('vinaigrette', 'sesame'), ('enjoyed', 'look'), ('richard', 'louisiana'), ('employee', 'others'), ('woman', 'evolutionary'), ('equal', 'purpose'), ('justin', 'would'), ('hierarchy', 'hire'), ('okay', 'first'), ('oppose', 'supremacy'), ('news', 'president'), ('evergreen', 'american'), ('fine', \"everything's\"), ('like', 'year'), ('illegal', 'immigrant'), ('really', 'kind'), ('actually', 'research'), ('going', 'job'), ('leader', 'key'), ('want', 'general'), ('protest', 'political'), ('according', 'pennsylvania'), ('uh', 'ahmed'), ('human', 'enough'), ('making', 'daily'), ('flown', 'group'), ('humanity', 'sort'), ('place', 'first'), ('uncertainty', 'much'), ('say', 'uh'), ('one', 'supremacist'), ('17', 'eu'), ('baseless', 'presidency'), ('year', 'eight'), ('harris', 'key'), ('presumably', 'state'), ('oh', 'oh'), ('dehydrated', 'bus'), ('party', 'policygenius.com'), ('going', 'majority')]\n",
      "Built 4492998 pairs\n"
     ]
    },
    {
     "name": "stderr",
     "output_type": "stream",
     "text": [
      "\n"
     ]
    }
   ],
   "source": [
    "pairs = getPairs(texts, window=2)\n",
    "print(pairs[:10])\n",
    "print(random.sample(pairs, 100))\n",
    "print(f'Built {len(pairs)} pairs')"
   ]
  },
  {
   "cell_type": "markdown",
   "id": "5958666e",
   "metadata": {},
   "source": [
    "# Get wordset and build tokenizer"
   ]
  },
  {
   "cell_type": "code",
   "execution_count": 7,
   "id": "663e2816",
   "metadata": {},
   "outputs": [
    {
     "name": "stdout",
     "output_type": "stream",
     "text": [
      "['', 'urumiki', 'gearing', '2022', '9.', 'intolerance', 'engaging', 'mastercard', 'muffler', 'empirically', 'obesity', 'alright', 'spilling', 'averted', 'emil', 'soil', 'fdic', 'lubich', \"airsat's\", '467']\n",
      "['eyed', 'clayne', 'characterization', 'd-day', 'pickle', 'minivan', 'matt', 'anti-military', 'vector', 'penguin', 'saved', 'sure', 'cosplaying', '1987', 'eh', 'crunch', 'clever', 'subordinate', 'try', 'steamrolled']\n",
      "Wordset is size: 30493\n"
     ]
    }
   ],
   "source": [
    "wordset = getFullWordset(texts)\n",
    "word2idx, idx2word = buildTokenizer(wordset)\n",
    "print(list(wordset)[:20])\n",
    "print(random.sample(list(wordset), 20))\n",
    "print(f'Wordset is size: {len(wordset)}')"
   ]
  },
  {
   "cell_type": "markdown",
   "id": "efb31415",
   "metadata": {},
   "source": [
    "# Convert Pairs to ints"
   ]
  },
  {
   "cell_type": "code",
   "execution_count": 9,
   "id": "98f0b499",
   "metadata": {},
   "outputs": [
    {
     "name": "stdout",
     "output_type": "stream",
     "text": [
      "[(24210, 26980), (25116, 26812), (4628, 4936), (19035, 13852), (29881, 582), (22682, 22180), (4135, 6902), (14018, 13243), (7828, 20018), (4018, 14790)]\n",
      "[]\n",
      "Total pairs: 1775754\n"
     ]
    }
   ],
   "source": [
    "def pairToInts(pair, mapping):\n",
    "    a, b = pair\n",
    "    return (mapping[a], mapping[b])\n",
    "\n",
    "pairset = set(pairs)\n",
    "intpairs = []\n",
    "# intpairs = [pairToInts(p, word2idx) for p in pairs]\n",
    "for p in pairset:\n",
    "    intpairs.append(pairToInts(p, word2idx))\n",
    "print(intpairs[:10])\n",
    "print(weights[:10])\n",
    "print(f'Total pairs: {len(intpairs)}')"
   ]
  },
  {
   "cell_type": "markdown",
   "id": "11a6145e",
   "metadata": {},
   "source": [
    "# Count pairs for creating weights"
   ]
  },
  {
   "cell_type": "code",
   "execution_count": 10,
   "id": "232629eb",
   "metadata": {},
   "outputs": [],
   "source": [
    "pairWeights = {}\n",
    "for pair in intpairs:\n",
    "    if pair not in pairWeights:\n",
    "        pairWeights[pair] = 0\n",
    "    pairWeights[pair] += 1"
   ]
  },
  {
   "cell_type": "markdown",
   "id": "2a338ca4",
   "metadata": {},
   "source": [
    "# Define generating function for data"
   ]
  },
  {
   "cell_type": "code",
   "execution_count": 13,
   "id": "e0bac760",
   "metadata": {},
   "outputs": [
    {
     "name": "stdout",
     "output_type": "stream",
     "text": [
      "Metal device set to: Apple M1 Max\n",
      "[False False False False False  True False False False False]\n",
      "(10,)\n",
      "bool\n"
     ]
    },
    {
     "name": "stderr",
     "output_type": "stream",
     "text": [
      "2022-12-12 18:14:06.270453: I tensorflow/core/common_runtime/pluggable_device/pluggable_device_factory.cc:306] Could not identify NUMA node of platform GPU ID 0, defaulting to 0. Your kernel may not have been built with NUMA support.\n",
      "2022-12-12 18:14:06.270800: I tensorflow/core/common_runtime/pluggable_device/pluggable_device_factory.cc:272] Created TensorFlow device (/job:localhost/replica:0/task:0/device:GPU:0 with 0 MB memory) -> physical PluggableDevice (device: 0, name: METAL, pci bus id: <undefined>)\n"
     ]
    }
   ],
   "source": [
    "x = np.array(tf.one_hot(5, 10), dtype=np.bool_)\n",
    "print(x)\n",
    "print(x.shape)\n",
    "print(x.dtype)"
   ]
  },
  {
   "cell_type": "code",
   "execution_count": 55,
   "id": "4335e52a",
   "metadata": {},
   "outputs": [],
   "source": [
    "def generateData():\n",
    "    count = 0\n",
    "    for p in intpairs:\n",
    "        count += 1\n",
    "        if count > 10:\n",
    "            break\n",
    "        w = pairWeights[p]\n",
    "        a, b = p\n",
    "        va = tf.one_hot(a, len(wordset), dtype=tf.uint8)\n",
    "        vb = tf.one_hot(b, len(wordset), dtype=tf.uint8)\n",
    "        # yield (va, vb, w)\n",
    "        yield (va, vb)\n",
    "\n"
   ]
  },
  {
   "cell_type": "code",
   "execution_count": 56,
   "id": "2f48946e",
   "metadata": {},
   "outputs": [
    {
     "name": "stdout",
     "output_type": "stream",
     "text": [
      "[(<tf.Tensor: shape=(30493,), dtype=uint8, numpy=array([0, 0, 0, ..., 0, 0, 0], dtype=uint8)>, <tf.Tensor: shape=(30493,), dtype=uint8, numpy=array([0, 0, 0, ..., 0, 0, 0], dtype=uint8)>), (<tf.Tensor: shape=(30493,), dtype=uint8, numpy=array([0, 0, 0, ..., 0, 0, 0], dtype=uint8)>, <tf.Tensor: shape=(30493,), dtype=uint8, numpy=array([0, 0, 0, ..., 0, 0, 0], dtype=uint8)>), (<tf.Tensor: shape=(30493,), dtype=uint8, numpy=array([0, 0, 0, ..., 0, 0, 0], dtype=uint8)>, <tf.Tensor: shape=(30493,), dtype=uint8, numpy=array([0, 0, 0, ..., 0, 0, 0], dtype=uint8)>), (<tf.Tensor: shape=(30493,), dtype=uint8, numpy=array([0, 0, 0, ..., 0, 0, 0], dtype=uint8)>, <tf.Tensor: shape=(30493,), dtype=uint8, numpy=array([0, 0, 0, ..., 0, 0, 0], dtype=uint8)>), (<tf.Tensor: shape=(30493,), dtype=uint8, numpy=array([0, 0, 0, ..., 0, 0, 0], dtype=uint8)>, <tf.Tensor: shape=(30493,), dtype=uint8, numpy=array([0, 0, 0, ..., 0, 0, 0], dtype=uint8)>), (<tf.Tensor: shape=(30493,), dtype=uint8, numpy=array([0, 0, 0, ..., 0, 0, 0], dtype=uint8)>, <tf.Tensor: shape=(30493,), dtype=uint8, numpy=array([0, 0, 0, ..., 0, 0, 0], dtype=uint8)>), (<tf.Tensor: shape=(30493,), dtype=uint8, numpy=array([0, 0, 0, ..., 0, 0, 0], dtype=uint8)>, <tf.Tensor: shape=(30493,), dtype=uint8, numpy=array([0, 0, 0, ..., 0, 0, 0], dtype=uint8)>), (<tf.Tensor: shape=(30493,), dtype=uint8, numpy=array([0, 0, 0, ..., 0, 0, 0], dtype=uint8)>, <tf.Tensor: shape=(30493,), dtype=uint8, numpy=array([0, 0, 0, ..., 0, 0, 0], dtype=uint8)>), (<tf.Tensor: shape=(30493,), dtype=uint8, numpy=array([0, 0, 0, ..., 0, 0, 0], dtype=uint8)>, <tf.Tensor: shape=(30493,), dtype=uint8, numpy=array([0, 0, 0, ..., 0, 0, 0], dtype=uint8)>), (<tf.Tensor: shape=(30493,), dtype=uint8, numpy=array([0, 0, 0, ..., 0, 0, 0], dtype=uint8)>, <tf.Tensor: shape=(30493,), dtype=uint8, numpy=array([0, 0, 0, ..., 0, 0, 0], dtype=uint8)>)]\n",
      "10\n"
     ]
    }
   ],
   "source": [
    "x = list(generateData())\n",
    "print(x)\n",
    "print(len(x))"
   ]
  },
  {
   "cell_type": "markdown",
   "id": "5b8e72a9",
   "metadata": {},
   "source": [
    "# Build and compile NNet"
   ]
  },
  {
   "cell_type": "code",
   "execution_count": 57,
   "id": "4d0f354b",
   "metadata": {},
   "outputs": [],
   "source": [
    "EMBED_SIZE = 64\n",
    "os.environ[\"CUDA_VISIBLE_DEVICES\"] = \"\""
   ]
  },
  {
   "cell_type": "code",
   "execution_count": 58,
   "id": "e86e4e2e",
   "metadata": {},
   "outputs": [],
   "source": [
    "inp = Input(shape=(len(wordset),))\n",
    "x = Dense(units=EMBED_SIZE, activation='linear')(inp)\n",
    "x = Dense(units=len(wordset), activation='softmax')(x)\n",
    "model = Model(inputs=inp, outputs=x)\n",
    "model.compile(loss='categorical_crossentropy', optimizer='adam')"
   ]
  },
  {
   "cell_type": "code",
   "execution_count": 59,
   "id": "a08be650",
   "metadata": {},
   "outputs": [
    {
     "name": "stdout",
     "output_type": "stream",
     "text": [
      "Model: \"model_2\"\n",
      "_________________________________________________________________\n",
      " Layer (type)                Output Shape              Param #   \n",
      "=================================================================\n",
      " input_3 (InputLayer)        [(None, 30493)]           0         \n",
      "                                                                 \n",
      " dense_4 (Dense)             (None, 64)                1951616   \n",
      "                                                                 \n",
      " dense_5 (Dense)             (None, 30493)             1982045   \n",
      "                                                                 \n",
      "=================================================================\n",
      "Total params: 3,933,661\n",
      "Trainable params: 3,933,661\n",
      "Non-trainable params: 0\n",
      "_________________________________________________________________\n",
      "None\n"
     ]
    }
   ],
   "source": [
    "print(model.summary())"
   ]
  },
  {
   "cell_type": "markdown",
   "id": "846d8cda",
   "metadata": {},
   "source": [
    "# Train NNet"
   ]
  },
  {
   "cell_type": "code",
   "execution_count": 60,
   "id": "09c0d33e",
   "metadata": {},
   "outputs": [],
   "source": [
    "os.environ[\"CUDA_VISIBLE_DEVICES\"] = \"\""
   ]
  },
  {
   "cell_type": "code",
   "execution_count": 61,
   "id": "a1309e1f",
   "metadata": {},
   "outputs": [
    {
     "data": {
      "text/plain": [
       "[PhysicalDevice(name='/physical_device:CPU:0', device_type='CPU'),\n",
       " PhysicalDevice(name='/physical_device:GPU:0', device_type='GPU')]"
      ]
     },
     "execution_count": 61,
     "metadata": {},
     "output_type": "execute_result"
    }
   ],
   "source": [
    "tf.config.list_physical_devices()"
   ]
  },
  {
   "cell_type": "code",
   "execution_count": 63,
   "id": "9054ccf1",
   "metadata": {
    "scrolled": true
   },
   "outputs": [
    {
     "name": "stdout",
     "output_type": "stream",
     "text": [
      "<FlatMapDataset element_spec=(TensorSpec(shape=<unknown>, dtype=tf.uint8, name=None), TensorSpec(shape=<unknown>, dtype=tf.uint8, name=None))>\n",
      "Epoch 1/2\n"
     ]
    },
    {
     "name": "stderr",
     "output_type": "stream",
     "text": [
      "2022-12-12 18:50:20.132618: W tensorflow/core/platform/profile_utils/cpu_utils.cc:128] Failed to get CPU frequency: 0 Hz\n",
      "2022-12-12 18:50:20.382341: I tensorflow/core/grappler/optimizers/custom_graph_optimizer_registry.cc:114] Plugin optimizer for device_type GPU is enabled.\n"
     ]
    },
    {
     "ename": "InvalidArgumentError",
     "evalue": "Graph execution error:\n\nDetected at node 'model_2/dense_4/MatMul' defined at (most recent call last):\n    File \"/Users/ebolton/miniconda/lib/python3.9/runpy.py\", line 197, in _run_module_as_main\n      return _run_code(code, main_globals, None,\n    File \"/Users/ebolton/miniconda/lib/python3.9/runpy.py\", line 87, in _run_code\n      exec(code, run_globals)\n    File \"/Users/ebolton/miniconda/lib/python3.9/site-packages/ipykernel_launcher.py\", line 17, in <module>\n      app.launch_new_instance()\n    File \"/Users/ebolton/miniconda/lib/python3.9/site-packages/traitlets/config/application.py\", line 846, in launch_instance\n      app.start()\n    File \"/Users/ebolton/miniconda/lib/python3.9/site-packages/ipykernel/kernelapp.py\", line 712, in start\n      self.io_loop.start()\n    File \"/Users/ebolton/miniconda/lib/python3.9/site-packages/tornado/platform/asyncio.py\", line 215, in start\n      self.asyncio_loop.run_forever()\n    File \"/Users/ebolton/miniconda/lib/python3.9/asyncio/base_events.py\", line 601, in run_forever\n      self._run_once()\n    File \"/Users/ebolton/miniconda/lib/python3.9/asyncio/base_events.py\", line 1905, in _run_once\n      handle._run()\n    File \"/Users/ebolton/miniconda/lib/python3.9/asyncio/events.py\", line 80, in _run\n      self._context.run(self._callback, *self._args)\n    File \"/Users/ebolton/miniconda/lib/python3.9/site-packages/ipykernel/kernelbase.py\", line 510, in dispatch_queue\n      await self.process_one()\n    File \"/Users/ebolton/miniconda/lib/python3.9/site-packages/ipykernel/kernelbase.py\", line 499, in process_one\n      await dispatch(*args)\n    File \"/Users/ebolton/miniconda/lib/python3.9/site-packages/ipykernel/kernelbase.py\", line 406, in dispatch_shell\n      await result\n    File \"/Users/ebolton/miniconda/lib/python3.9/site-packages/ipykernel/kernelbase.py\", line 730, in execute_request\n      reply_content = await reply_content\n    File \"/Users/ebolton/miniconda/lib/python3.9/site-packages/ipykernel/ipkernel.py\", line 383, in do_execute\n      res = shell.run_cell(\n    File \"/Users/ebolton/miniconda/lib/python3.9/site-packages/ipykernel/zmqshell.py\", line 528, in run_cell\n      return super().run_cell(*args, **kwargs)\n    File \"/Users/ebolton/miniconda/lib/python3.9/site-packages/IPython/core/interactiveshell.py\", line 2940, in run_cell\n      result = self._run_cell(\n    File \"/Users/ebolton/miniconda/lib/python3.9/site-packages/IPython/core/interactiveshell.py\", line 2995, in _run_cell\n      return runner(coro)\n    File \"/Users/ebolton/miniconda/lib/python3.9/site-packages/IPython/core/async_helpers.py\", line 129, in _pseudo_sync_runner\n      coro.send(None)\n    File \"/Users/ebolton/miniconda/lib/python3.9/site-packages/IPython/core/interactiveshell.py\", line 3194, in run_cell_async\n      has_raised = await self.run_ast_nodes(code_ast.body, cell_name,\n    File \"/Users/ebolton/miniconda/lib/python3.9/site-packages/IPython/core/interactiveshell.py\", line 3373, in run_ast_nodes\n      if await self.run_code(code, result, async_=asy):\n    File \"/Users/ebolton/miniconda/lib/python3.9/site-packages/IPython/core/interactiveshell.py\", line 3433, in run_code\n      exec(code_obj, self.user_global_ns, self.user_ns)\n    File \"/var/folders/69/zj__r59905g5mdvqlglk730r0000gn/T/ipykernel_41449/4052035086.py\", line 10, in <module>\n      hist = model.fit(\n    File \"/Users/ebolton/miniconda/lib/python3.9/site-packages/keras/utils/traceback_utils.py\", line 65, in error_handler\n      return fn(*args, **kwargs)\n    File \"/Users/ebolton/miniconda/lib/python3.9/site-packages/keras/engine/training.py\", line 1564, in fit\n      tmp_logs = self.train_function(iterator)\n    File \"/Users/ebolton/miniconda/lib/python3.9/site-packages/keras/engine/training.py\", line 1160, in train_function\n      return step_function(self, iterator)\n    File \"/Users/ebolton/miniconda/lib/python3.9/site-packages/keras/engine/training.py\", line 1146, in step_function\n      outputs = model.distribute_strategy.run(run_step, args=(data,))\n    File \"/Users/ebolton/miniconda/lib/python3.9/site-packages/keras/engine/training.py\", line 1135, in run_step\n      outputs = model.train_step(data)\n    File \"/Users/ebolton/miniconda/lib/python3.9/site-packages/keras/engine/training.py\", line 993, in train_step\n      y_pred = self(x, training=True)\n    File \"/Users/ebolton/miniconda/lib/python3.9/site-packages/keras/utils/traceback_utils.py\", line 65, in error_handler\n      return fn(*args, **kwargs)\n    File \"/Users/ebolton/miniconda/lib/python3.9/site-packages/keras/engine/training.py\", line 557, in __call__\n      return super().__call__(*args, **kwargs)\n    File \"/Users/ebolton/miniconda/lib/python3.9/site-packages/keras/utils/traceback_utils.py\", line 65, in error_handler\n      return fn(*args, **kwargs)\n    File \"/Users/ebolton/miniconda/lib/python3.9/site-packages/keras/engine/base_layer.py\", line 1097, in __call__\n      outputs = call_fn(inputs, *args, **kwargs)\n    File \"/Users/ebolton/miniconda/lib/python3.9/site-packages/keras/utils/traceback_utils.py\", line 96, in error_handler\n      return fn(*args, **kwargs)\n    File \"/Users/ebolton/miniconda/lib/python3.9/site-packages/keras/engine/functional.py\", line 510, in call\n      return self._run_internal_graph(inputs, training=training, mask=mask)\n    File \"/Users/ebolton/miniconda/lib/python3.9/site-packages/keras/engine/functional.py\", line 667, in _run_internal_graph\n      outputs = node.layer(*args, **kwargs)\n    File \"/Users/ebolton/miniconda/lib/python3.9/site-packages/keras/utils/traceback_utils.py\", line 65, in error_handler\n      return fn(*args, **kwargs)\n    File \"/Users/ebolton/miniconda/lib/python3.9/site-packages/keras/engine/base_layer.py\", line 1097, in __call__\n      outputs = call_fn(inputs, *args, **kwargs)\n    File \"/Users/ebolton/miniconda/lib/python3.9/site-packages/keras/utils/traceback_utils.py\", line 96, in error_handler\n      return fn(*args, **kwargs)\n    File \"/Users/ebolton/miniconda/lib/python3.9/site-packages/keras/layers/core/dense.py\", line 241, in call\n      outputs = tf.matmul(a=inputs, b=self.kernel)\nNode: 'model_2/dense_4/MatMul'\nDetected at node 'model_2/dense_4/MatMul' defined at (most recent call last):\n    File \"/Users/ebolton/miniconda/lib/python3.9/runpy.py\", line 197, in _run_module_as_main\n      return _run_code(code, main_globals, None,\n    File \"/Users/ebolton/miniconda/lib/python3.9/runpy.py\", line 87, in _run_code\n      exec(code, run_globals)\n    File \"/Users/ebolton/miniconda/lib/python3.9/site-packages/ipykernel_launcher.py\", line 17, in <module>\n      app.launch_new_instance()\n    File \"/Users/ebolton/miniconda/lib/python3.9/site-packages/traitlets/config/application.py\", line 846, in launch_instance\n      app.start()\n    File \"/Users/ebolton/miniconda/lib/python3.9/site-packages/ipykernel/kernelapp.py\", line 712, in start\n      self.io_loop.start()\n    File \"/Users/ebolton/miniconda/lib/python3.9/site-packages/tornado/platform/asyncio.py\", line 215, in start\n      self.asyncio_loop.run_forever()\n    File \"/Users/ebolton/miniconda/lib/python3.9/asyncio/base_events.py\", line 601, in run_forever\n      self._run_once()\n    File \"/Users/ebolton/miniconda/lib/python3.9/asyncio/base_events.py\", line 1905, in _run_once\n      handle._run()\n    File \"/Users/ebolton/miniconda/lib/python3.9/asyncio/events.py\", line 80, in _run\n      self._context.run(self._callback, *self._args)\n    File \"/Users/ebolton/miniconda/lib/python3.9/site-packages/ipykernel/kernelbase.py\", line 510, in dispatch_queue\n      await self.process_one()\n    File \"/Users/ebolton/miniconda/lib/python3.9/site-packages/ipykernel/kernelbase.py\", line 499, in process_one\n      await dispatch(*args)\n    File \"/Users/ebolton/miniconda/lib/python3.9/site-packages/ipykernel/kernelbase.py\", line 406, in dispatch_shell\n      await result\n    File \"/Users/ebolton/miniconda/lib/python3.9/site-packages/ipykernel/kernelbase.py\", line 730, in execute_request\n      reply_content = await reply_content\n    File \"/Users/ebolton/miniconda/lib/python3.9/site-packages/ipykernel/ipkernel.py\", line 383, in do_execute\n      res = shell.run_cell(\n    File \"/Users/ebolton/miniconda/lib/python3.9/site-packages/ipykernel/zmqshell.py\", line 528, in run_cell\n      return super().run_cell(*args, **kwargs)\n    File \"/Users/ebolton/miniconda/lib/python3.9/site-packages/IPython/core/interactiveshell.py\", line 2940, in run_cell\n      result = self._run_cell(\n    File \"/Users/ebolton/miniconda/lib/python3.9/site-packages/IPython/core/interactiveshell.py\", line 2995, in _run_cell\n      return runner(coro)\n    File \"/Users/ebolton/miniconda/lib/python3.9/site-packages/IPython/core/async_helpers.py\", line 129, in _pseudo_sync_runner\n      coro.send(None)\n    File \"/Users/ebolton/miniconda/lib/python3.9/site-packages/IPython/core/interactiveshell.py\", line 3194, in run_cell_async\n      has_raised = await self.run_ast_nodes(code_ast.body, cell_name,\n    File \"/Users/ebolton/miniconda/lib/python3.9/site-packages/IPython/core/interactiveshell.py\", line 3373, in run_ast_nodes\n      if await self.run_code(code, result, async_=asy):\n    File \"/Users/ebolton/miniconda/lib/python3.9/site-packages/IPython/core/interactiveshell.py\", line 3433, in run_code\n      exec(code_obj, self.user_global_ns, self.user_ns)\n    File \"/var/folders/69/zj__r59905g5mdvqlglk730r0000gn/T/ipykernel_41449/4052035086.py\", line 10, in <module>\n      hist = model.fit(\n    File \"/Users/ebolton/miniconda/lib/python3.9/site-packages/keras/utils/traceback_utils.py\", line 65, in error_handler\n      return fn(*args, **kwargs)\n    File \"/Users/ebolton/miniconda/lib/python3.9/site-packages/keras/engine/training.py\", line 1564, in fit\n      tmp_logs = self.train_function(iterator)\n    File \"/Users/ebolton/miniconda/lib/python3.9/site-packages/keras/engine/training.py\", line 1160, in train_function\n      return step_function(self, iterator)\n    File \"/Users/ebolton/miniconda/lib/python3.9/site-packages/keras/engine/training.py\", line 1146, in step_function\n      outputs = model.distribute_strategy.run(run_step, args=(data,))\n    File \"/Users/ebolton/miniconda/lib/python3.9/site-packages/keras/engine/training.py\", line 1135, in run_step\n      outputs = model.train_step(data)\n    File \"/Users/ebolton/miniconda/lib/python3.9/site-packages/keras/engine/training.py\", line 993, in train_step\n      y_pred = self(x, training=True)\n    File \"/Users/ebolton/miniconda/lib/python3.9/site-packages/keras/utils/traceback_utils.py\", line 65, in error_handler\n      return fn(*args, **kwargs)\n    File \"/Users/ebolton/miniconda/lib/python3.9/site-packages/keras/engine/training.py\", line 557, in __call__\n      return super().__call__(*args, **kwargs)\n    File \"/Users/ebolton/miniconda/lib/python3.9/site-packages/keras/utils/traceback_utils.py\", line 65, in error_handler\n      return fn(*args, **kwargs)\n    File \"/Users/ebolton/miniconda/lib/python3.9/site-packages/keras/engine/base_layer.py\", line 1097, in __call__\n      outputs = call_fn(inputs, *args, **kwargs)\n    File \"/Users/ebolton/miniconda/lib/python3.9/site-packages/keras/utils/traceback_utils.py\", line 96, in error_handler\n      return fn(*args, **kwargs)\n    File \"/Users/ebolton/miniconda/lib/python3.9/site-packages/keras/engine/functional.py\", line 510, in call\n      return self._run_internal_graph(inputs, training=training, mask=mask)\n    File \"/Users/ebolton/miniconda/lib/python3.9/site-packages/keras/engine/functional.py\", line 667, in _run_internal_graph\n      outputs = node.layer(*args, **kwargs)\n    File \"/Users/ebolton/miniconda/lib/python3.9/site-packages/keras/utils/traceback_utils.py\", line 65, in error_handler\n      return fn(*args, **kwargs)\n    File \"/Users/ebolton/miniconda/lib/python3.9/site-packages/keras/engine/base_layer.py\", line 1097, in __call__\n      outputs = call_fn(inputs, *args, **kwargs)\n    File \"/Users/ebolton/miniconda/lib/python3.9/site-packages/keras/utils/traceback_utils.py\", line 96, in error_handler\n      return fn(*args, **kwargs)\n    File \"/Users/ebolton/miniconda/lib/python3.9/site-packages/keras/layers/core/dense.py\", line 241, in call\n      outputs = tf.matmul(a=inputs, b=self.kernel)\nNode: 'model_2/dense_4/MatMul'\n2 root error(s) found.\n  (0) INVALID_ARGUMENT:  In[0] and In[1] has different ndims: [30493] vs. [30493,64]\n\t [[{{node model_2/dense_4/MatMul}}]]\n\t [[categorical_crossentropy/cond/else/_1/categorical_crossentropy/cond/remove_squeezable_dimensions/cond/pivot_t/_58/_35]]\n  (1) INVALID_ARGUMENT:  In[0] and In[1] has different ndims: [30493] vs. [30493,64]\n\t [[{{node model_2/dense_4/MatMul}}]]\n0 successful operations.\n0 derived errors ignored. [Op:__inference_train_function_3633]",
     "output_type": "error",
     "traceback": [
      "\u001b[0;31m---------------------------------------------------------------------------\u001b[0m",
      "\u001b[0;31mInvalidArgumentError\u001b[0m                      Traceback (most recent call last)",
      "Cell \u001b[0;32mIn [63], line 10\u001b[0m\n\u001b[1;32m      8\u001b[0m gen \u001b[38;5;241m=\u001b[39m tf\u001b[38;5;241m.\u001b[39mdata\u001b[38;5;241m.\u001b[39mDataset\u001b[38;5;241m.\u001b[39mfrom_generator(generateData, (tf\u001b[38;5;241m.\u001b[39muint8, tf\u001b[38;5;241m.\u001b[39muint8))\n\u001b[1;32m      9\u001b[0m \u001b[38;5;28mprint\u001b[39m(gen)\n\u001b[0;32m---> 10\u001b[0m hist \u001b[38;5;241m=\u001b[39m \u001b[43mmodel\u001b[49m\u001b[38;5;241;43m.\u001b[39;49m\u001b[43mfit\u001b[49m\u001b[43m(\u001b[49m\n\u001b[1;32m     11\u001b[0m \u001b[43m    \u001b[49m\u001b[43mgen\u001b[49m\u001b[43m,\u001b[49m\n\u001b[1;32m     12\u001b[0m \u001b[43m    \u001b[49m\u001b[43mepochs\u001b[49m\u001b[38;5;241;43m=\u001b[39;49m\u001b[38;5;241;43m2\u001b[39;49m\u001b[43m,\u001b[49m\n\u001b[1;32m     13\u001b[0m \u001b[43m)\u001b[49m\n",
      "File \u001b[0;32m~/miniconda/lib/python3.9/site-packages/keras/utils/traceback_utils.py:70\u001b[0m, in \u001b[0;36mfilter_traceback.<locals>.error_handler\u001b[0;34m(*args, **kwargs)\u001b[0m\n\u001b[1;32m     67\u001b[0m     filtered_tb \u001b[38;5;241m=\u001b[39m _process_traceback_frames(e\u001b[38;5;241m.\u001b[39m__traceback__)\n\u001b[1;32m     68\u001b[0m     \u001b[38;5;66;03m# To get the full stack trace, call:\u001b[39;00m\n\u001b[1;32m     69\u001b[0m     \u001b[38;5;66;03m# `tf.debugging.disable_traceback_filtering()`\u001b[39;00m\n\u001b[0;32m---> 70\u001b[0m     \u001b[38;5;28;01mraise\u001b[39;00m e\u001b[38;5;241m.\u001b[39mwith_traceback(filtered_tb) \u001b[38;5;28;01mfrom\u001b[39;00m \u001b[38;5;28mNone\u001b[39m\n\u001b[1;32m     71\u001b[0m \u001b[38;5;28;01mfinally\u001b[39;00m:\n\u001b[1;32m     72\u001b[0m     \u001b[38;5;28;01mdel\u001b[39;00m filtered_tb\n",
      "File \u001b[0;32m~/miniconda/lib/python3.9/site-packages/tensorflow/python/eager/execute.py:54\u001b[0m, in \u001b[0;36mquick_execute\u001b[0;34m(op_name, num_outputs, inputs, attrs, ctx, name)\u001b[0m\n\u001b[1;32m     52\u001b[0m \u001b[38;5;28;01mtry\u001b[39;00m:\n\u001b[1;32m     53\u001b[0m   ctx\u001b[38;5;241m.\u001b[39mensure_initialized()\n\u001b[0;32m---> 54\u001b[0m   tensors \u001b[38;5;241m=\u001b[39m pywrap_tfe\u001b[38;5;241m.\u001b[39mTFE_Py_Execute(ctx\u001b[38;5;241m.\u001b[39m_handle, device_name, op_name,\n\u001b[1;32m     55\u001b[0m                                       inputs, attrs, num_outputs)\n\u001b[1;32m     56\u001b[0m \u001b[38;5;28;01mexcept\u001b[39;00m core\u001b[38;5;241m.\u001b[39m_NotOkStatusException \u001b[38;5;28;01mas\u001b[39;00m e:\n\u001b[1;32m     57\u001b[0m   \u001b[38;5;28;01mif\u001b[39;00m name \u001b[38;5;129;01mis\u001b[39;00m \u001b[38;5;129;01mnot\u001b[39;00m \u001b[38;5;28;01mNone\u001b[39;00m:\n",
      "\u001b[0;31mInvalidArgumentError\u001b[0m: Graph execution error:\n\nDetected at node 'model_2/dense_4/MatMul' defined at (most recent call last):\n    File \"/Users/ebolton/miniconda/lib/python3.9/runpy.py\", line 197, in _run_module_as_main\n      return _run_code(code, main_globals, None,\n    File \"/Users/ebolton/miniconda/lib/python3.9/runpy.py\", line 87, in _run_code\n      exec(code, run_globals)\n    File \"/Users/ebolton/miniconda/lib/python3.9/site-packages/ipykernel_launcher.py\", line 17, in <module>\n      app.launch_new_instance()\n    File \"/Users/ebolton/miniconda/lib/python3.9/site-packages/traitlets/config/application.py\", line 846, in launch_instance\n      app.start()\n    File \"/Users/ebolton/miniconda/lib/python3.9/site-packages/ipykernel/kernelapp.py\", line 712, in start\n      self.io_loop.start()\n    File \"/Users/ebolton/miniconda/lib/python3.9/site-packages/tornado/platform/asyncio.py\", line 215, in start\n      self.asyncio_loop.run_forever()\n    File \"/Users/ebolton/miniconda/lib/python3.9/asyncio/base_events.py\", line 601, in run_forever\n      self._run_once()\n    File \"/Users/ebolton/miniconda/lib/python3.9/asyncio/base_events.py\", line 1905, in _run_once\n      handle._run()\n    File \"/Users/ebolton/miniconda/lib/python3.9/asyncio/events.py\", line 80, in _run\n      self._context.run(self._callback, *self._args)\n    File \"/Users/ebolton/miniconda/lib/python3.9/site-packages/ipykernel/kernelbase.py\", line 510, in dispatch_queue\n      await self.process_one()\n    File \"/Users/ebolton/miniconda/lib/python3.9/site-packages/ipykernel/kernelbase.py\", line 499, in process_one\n      await dispatch(*args)\n    File \"/Users/ebolton/miniconda/lib/python3.9/site-packages/ipykernel/kernelbase.py\", line 406, in dispatch_shell\n      await result\n    File \"/Users/ebolton/miniconda/lib/python3.9/site-packages/ipykernel/kernelbase.py\", line 730, in execute_request\n      reply_content = await reply_content\n    File \"/Users/ebolton/miniconda/lib/python3.9/site-packages/ipykernel/ipkernel.py\", line 383, in do_execute\n      res = shell.run_cell(\n    File \"/Users/ebolton/miniconda/lib/python3.9/site-packages/ipykernel/zmqshell.py\", line 528, in run_cell\n      return super().run_cell(*args, **kwargs)\n    File \"/Users/ebolton/miniconda/lib/python3.9/site-packages/IPython/core/interactiveshell.py\", line 2940, in run_cell\n      result = self._run_cell(\n    File \"/Users/ebolton/miniconda/lib/python3.9/site-packages/IPython/core/interactiveshell.py\", line 2995, in _run_cell\n      return runner(coro)\n    File \"/Users/ebolton/miniconda/lib/python3.9/site-packages/IPython/core/async_helpers.py\", line 129, in _pseudo_sync_runner\n      coro.send(None)\n    File \"/Users/ebolton/miniconda/lib/python3.9/site-packages/IPython/core/interactiveshell.py\", line 3194, in run_cell_async\n      has_raised = await self.run_ast_nodes(code_ast.body, cell_name,\n    File \"/Users/ebolton/miniconda/lib/python3.9/site-packages/IPython/core/interactiveshell.py\", line 3373, in run_ast_nodes\n      if await self.run_code(code, result, async_=asy):\n    File \"/Users/ebolton/miniconda/lib/python3.9/site-packages/IPython/core/interactiveshell.py\", line 3433, in run_code\n      exec(code_obj, self.user_global_ns, self.user_ns)\n    File \"/var/folders/69/zj__r59905g5mdvqlglk730r0000gn/T/ipykernel_41449/4052035086.py\", line 10, in <module>\n      hist = model.fit(\n    File \"/Users/ebolton/miniconda/lib/python3.9/site-packages/keras/utils/traceback_utils.py\", line 65, in error_handler\n      return fn(*args, **kwargs)\n    File \"/Users/ebolton/miniconda/lib/python3.9/site-packages/keras/engine/training.py\", line 1564, in fit\n      tmp_logs = self.train_function(iterator)\n    File \"/Users/ebolton/miniconda/lib/python3.9/site-packages/keras/engine/training.py\", line 1160, in train_function\n      return step_function(self, iterator)\n    File \"/Users/ebolton/miniconda/lib/python3.9/site-packages/keras/engine/training.py\", line 1146, in step_function\n      outputs = model.distribute_strategy.run(run_step, args=(data,))\n    File \"/Users/ebolton/miniconda/lib/python3.9/site-packages/keras/engine/training.py\", line 1135, in run_step\n      outputs = model.train_step(data)\n    File \"/Users/ebolton/miniconda/lib/python3.9/site-packages/keras/engine/training.py\", line 993, in train_step\n      y_pred = self(x, training=True)\n    File \"/Users/ebolton/miniconda/lib/python3.9/site-packages/keras/utils/traceback_utils.py\", line 65, in error_handler\n      return fn(*args, **kwargs)\n    File \"/Users/ebolton/miniconda/lib/python3.9/site-packages/keras/engine/training.py\", line 557, in __call__\n      return super().__call__(*args, **kwargs)\n    File \"/Users/ebolton/miniconda/lib/python3.9/site-packages/keras/utils/traceback_utils.py\", line 65, in error_handler\n      return fn(*args, **kwargs)\n    File \"/Users/ebolton/miniconda/lib/python3.9/site-packages/keras/engine/base_layer.py\", line 1097, in __call__\n      outputs = call_fn(inputs, *args, **kwargs)\n    File \"/Users/ebolton/miniconda/lib/python3.9/site-packages/keras/utils/traceback_utils.py\", line 96, in error_handler\n      return fn(*args, **kwargs)\n    File \"/Users/ebolton/miniconda/lib/python3.9/site-packages/keras/engine/functional.py\", line 510, in call\n      return self._run_internal_graph(inputs, training=training, mask=mask)\n    File \"/Users/ebolton/miniconda/lib/python3.9/site-packages/keras/engine/functional.py\", line 667, in _run_internal_graph\n      outputs = node.layer(*args, **kwargs)\n    File \"/Users/ebolton/miniconda/lib/python3.9/site-packages/keras/utils/traceback_utils.py\", line 65, in error_handler\n      return fn(*args, **kwargs)\n    File \"/Users/ebolton/miniconda/lib/python3.9/site-packages/keras/engine/base_layer.py\", line 1097, in __call__\n      outputs = call_fn(inputs, *args, **kwargs)\n    File \"/Users/ebolton/miniconda/lib/python3.9/site-packages/keras/utils/traceback_utils.py\", line 96, in error_handler\n      return fn(*args, **kwargs)\n    File \"/Users/ebolton/miniconda/lib/python3.9/site-packages/keras/layers/core/dense.py\", line 241, in call\n      outputs = tf.matmul(a=inputs, b=self.kernel)\nNode: 'model_2/dense_4/MatMul'\nDetected at node 'model_2/dense_4/MatMul' defined at (most recent call last):\n    File \"/Users/ebolton/miniconda/lib/python3.9/runpy.py\", line 197, in _run_module_as_main\n      return _run_code(code, main_globals, None,\n    File \"/Users/ebolton/miniconda/lib/python3.9/runpy.py\", line 87, in _run_code\n      exec(code, run_globals)\n    File \"/Users/ebolton/miniconda/lib/python3.9/site-packages/ipykernel_launcher.py\", line 17, in <module>\n      app.launch_new_instance()\n    File \"/Users/ebolton/miniconda/lib/python3.9/site-packages/traitlets/config/application.py\", line 846, in launch_instance\n      app.start()\n    File \"/Users/ebolton/miniconda/lib/python3.9/site-packages/ipykernel/kernelapp.py\", line 712, in start\n      self.io_loop.start()\n    File \"/Users/ebolton/miniconda/lib/python3.9/site-packages/tornado/platform/asyncio.py\", line 215, in start\n      self.asyncio_loop.run_forever()\n    File \"/Users/ebolton/miniconda/lib/python3.9/asyncio/base_events.py\", line 601, in run_forever\n      self._run_once()\n    File \"/Users/ebolton/miniconda/lib/python3.9/asyncio/base_events.py\", line 1905, in _run_once\n      handle._run()\n    File \"/Users/ebolton/miniconda/lib/python3.9/asyncio/events.py\", line 80, in _run\n      self._context.run(self._callback, *self._args)\n    File \"/Users/ebolton/miniconda/lib/python3.9/site-packages/ipykernel/kernelbase.py\", line 510, in dispatch_queue\n      await self.process_one()\n    File \"/Users/ebolton/miniconda/lib/python3.9/site-packages/ipykernel/kernelbase.py\", line 499, in process_one\n      await dispatch(*args)\n    File \"/Users/ebolton/miniconda/lib/python3.9/site-packages/ipykernel/kernelbase.py\", line 406, in dispatch_shell\n      await result\n    File \"/Users/ebolton/miniconda/lib/python3.9/site-packages/ipykernel/kernelbase.py\", line 730, in execute_request\n      reply_content = await reply_content\n    File \"/Users/ebolton/miniconda/lib/python3.9/site-packages/ipykernel/ipkernel.py\", line 383, in do_execute\n      res = shell.run_cell(\n    File \"/Users/ebolton/miniconda/lib/python3.9/site-packages/ipykernel/zmqshell.py\", line 528, in run_cell\n      return super().run_cell(*args, **kwargs)\n    File \"/Users/ebolton/miniconda/lib/python3.9/site-packages/IPython/core/interactiveshell.py\", line 2940, in run_cell\n      result = self._run_cell(\n    File \"/Users/ebolton/miniconda/lib/python3.9/site-packages/IPython/core/interactiveshell.py\", line 2995, in _run_cell\n      return runner(coro)\n    File \"/Users/ebolton/miniconda/lib/python3.9/site-packages/IPython/core/async_helpers.py\", line 129, in _pseudo_sync_runner\n      coro.send(None)\n    File \"/Users/ebolton/miniconda/lib/python3.9/site-packages/IPython/core/interactiveshell.py\", line 3194, in run_cell_async\n      has_raised = await self.run_ast_nodes(code_ast.body, cell_name,\n    File \"/Users/ebolton/miniconda/lib/python3.9/site-packages/IPython/core/interactiveshell.py\", line 3373, in run_ast_nodes\n      if await self.run_code(code, result, async_=asy):\n    File \"/Users/ebolton/miniconda/lib/python3.9/site-packages/IPython/core/interactiveshell.py\", line 3433, in run_code\n      exec(code_obj, self.user_global_ns, self.user_ns)\n    File \"/var/folders/69/zj__r59905g5mdvqlglk730r0000gn/T/ipykernel_41449/4052035086.py\", line 10, in <module>\n      hist = model.fit(\n    File \"/Users/ebolton/miniconda/lib/python3.9/site-packages/keras/utils/traceback_utils.py\", line 65, in error_handler\n      return fn(*args, **kwargs)\n    File \"/Users/ebolton/miniconda/lib/python3.9/site-packages/keras/engine/training.py\", line 1564, in fit\n      tmp_logs = self.train_function(iterator)\n    File \"/Users/ebolton/miniconda/lib/python3.9/site-packages/keras/engine/training.py\", line 1160, in train_function\n      return step_function(self, iterator)\n    File \"/Users/ebolton/miniconda/lib/python3.9/site-packages/keras/engine/training.py\", line 1146, in step_function\n      outputs = model.distribute_strategy.run(run_step, args=(data,))\n    File \"/Users/ebolton/miniconda/lib/python3.9/site-packages/keras/engine/training.py\", line 1135, in run_step\n      outputs = model.train_step(data)\n    File \"/Users/ebolton/miniconda/lib/python3.9/site-packages/keras/engine/training.py\", line 993, in train_step\n      y_pred = self(x, training=True)\n    File \"/Users/ebolton/miniconda/lib/python3.9/site-packages/keras/utils/traceback_utils.py\", line 65, in error_handler\n      return fn(*args, **kwargs)\n    File \"/Users/ebolton/miniconda/lib/python3.9/site-packages/keras/engine/training.py\", line 557, in __call__\n      return super().__call__(*args, **kwargs)\n    File \"/Users/ebolton/miniconda/lib/python3.9/site-packages/keras/utils/traceback_utils.py\", line 65, in error_handler\n      return fn(*args, **kwargs)\n    File \"/Users/ebolton/miniconda/lib/python3.9/site-packages/keras/engine/base_layer.py\", line 1097, in __call__\n      outputs = call_fn(inputs, *args, **kwargs)\n    File \"/Users/ebolton/miniconda/lib/python3.9/site-packages/keras/utils/traceback_utils.py\", line 96, in error_handler\n      return fn(*args, **kwargs)\n    File \"/Users/ebolton/miniconda/lib/python3.9/site-packages/keras/engine/functional.py\", line 510, in call\n      return self._run_internal_graph(inputs, training=training, mask=mask)\n    File \"/Users/ebolton/miniconda/lib/python3.9/site-packages/keras/engine/functional.py\", line 667, in _run_internal_graph\n      outputs = node.layer(*args, **kwargs)\n    File \"/Users/ebolton/miniconda/lib/python3.9/site-packages/keras/utils/traceback_utils.py\", line 65, in error_handler\n      return fn(*args, **kwargs)\n    File \"/Users/ebolton/miniconda/lib/python3.9/site-packages/keras/engine/base_layer.py\", line 1097, in __call__\n      outputs = call_fn(inputs, *args, **kwargs)\n    File \"/Users/ebolton/miniconda/lib/python3.9/site-packages/keras/utils/traceback_utils.py\", line 96, in error_handler\n      return fn(*args, **kwargs)\n    File \"/Users/ebolton/miniconda/lib/python3.9/site-packages/keras/layers/core/dense.py\", line 241, in call\n      outputs = tf.matmul(a=inputs, b=self.kernel)\nNode: 'model_2/dense_4/MatMul'\n2 root error(s) found.\n  (0) INVALID_ARGUMENT:  In[0] and In[1] has different ndims: [30493] vs. [30493,64]\n\t [[{{node model_2/dense_4/MatMul}}]]\n\t [[categorical_crossentropy/cond/else/_1/categorical_crossentropy/cond/remove_squeezable_dimensions/cond/pivot_t/_58/_35]]\n  (1) INVALID_ARGUMENT:  In[0] and In[1] has different ndims: [30493] vs. [30493,64]\n\t [[{{node model_2/dense_4/MatMul}}]]\n0 successful operations.\n0 derived errors ignored. [Op:__inference_train_function_3633]"
     ]
    }
   ],
   "source": [
    "# hist = model.fit(\n",
    "#     x=X,\n",
    "#     y=Y,\n",
    "#     batch_size=32,\n",
    "#     epochs=150,\n",
    "#     sample_weight=trainingWeights\n",
    "# )\n",
    "gen = tf.data.Dataset.from_generator(generateData, (tf.uint8, tf.uint8))\n",
    "print(gen)\n",
    "hist = model.fit(\n",
    "    gen,\n",
    "    epochs=2,\n",
    ")"
   ]
  },
  {
   "cell_type": "code",
   "execution_count": 71,
   "id": "c81ba14e",
   "metadata": {
    "scrolled": false
   },
   "outputs": [
    {
     "name": "stdout",
     "output_type": "stream",
     "text": [
      "[(0, 0), (1, 2), (2, 4), (3, 6), (4, 8), (5, 10), (6, 12), (7, 14), (8, 16), (9, 18)]\n",
      "Model: \"sequential_7\"\n",
      "_________________________________________________________________\n",
      " Layer (type)                Output Shape              Param #   \n",
      "=================================================================\n",
      " dense_20 (Dense)            (None, 10)                20        \n",
      "                                                                 \n",
      " dense_21 (Dense)            (None, 1)                 11        \n",
      "                                                                 \n",
      "=================================================================\n",
      "Total params: 31\n",
      "Trainable params: 31\n",
      "Non-trainable params: 0\n",
      "_________________________________________________________________\n",
      "None\n",
      "(None, 1) (None, 10)\n",
      "(None, 10) (None, 1)\n",
      "Epoch 1/3\n"
     ]
    },
    {
     "name": "stderr",
     "output_type": "stream",
     "text": [
      "2022-12-12 18:57:36.311253: I tensorflow/core/grappler/optimizers/custom_graph_optimizer_registry.cc:114] Plugin optimizer for device_type GPU is enabled.\n",
      "2022-12-12 18:57:36.362218: W tensorflow/core/framework/op_kernel.cc:1780] OP_REQUIRES failed at strided_slice_op.cc:111 : INVALID_ARGUMENT: slice index 0 of dimension 0 out of bounds.\n"
     ]
    },
    {
     "ename": "InvalidArgumentError",
     "evalue": "Graph execution error:\n\nDetected at node 'strided_slice' defined at (most recent call last):\n    File \"/Users/ebolton/miniconda/lib/python3.9/runpy.py\", line 197, in _run_module_as_main\n      return _run_code(code, main_globals, None,\n    File \"/Users/ebolton/miniconda/lib/python3.9/runpy.py\", line 87, in _run_code\n      exec(code, run_globals)\n    File \"/Users/ebolton/miniconda/lib/python3.9/site-packages/ipykernel_launcher.py\", line 17, in <module>\n      app.launch_new_instance()\n    File \"/Users/ebolton/miniconda/lib/python3.9/site-packages/traitlets/config/application.py\", line 846, in launch_instance\n      app.start()\n    File \"/Users/ebolton/miniconda/lib/python3.9/site-packages/ipykernel/kernelapp.py\", line 712, in start\n      self.io_loop.start()\n    File \"/Users/ebolton/miniconda/lib/python3.9/site-packages/tornado/platform/asyncio.py\", line 215, in start\n      self.asyncio_loop.run_forever()\n    File \"/Users/ebolton/miniconda/lib/python3.9/asyncio/base_events.py\", line 601, in run_forever\n      self._run_once()\n    File \"/Users/ebolton/miniconda/lib/python3.9/asyncio/base_events.py\", line 1905, in _run_once\n      handle._run()\n    File \"/Users/ebolton/miniconda/lib/python3.9/asyncio/events.py\", line 80, in _run\n      self._context.run(self._callback, *self._args)\n    File \"/Users/ebolton/miniconda/lib/python3.9/site-packages/ipykernel/kernelbase.py\", line 510, in dispatch_queue\n      await self.process_one()\n    File \"/Users/ebolton/miniconda/lib/python3.9/site-packages/ipykernel/kernelbase.py\", line 499, in process_one\n      await dispatch(*args)\n    File \"/Users/ebolton/miniconda/lib/python3.9/site-packages/ipykernel/kernelbase.py\", line 406, in dispatch_shell\n      await result\n    File \"/Users/ebolton/miniconda/lib/python3.9/site-packages/ipykernel/kernelbase.py\", line 730, in execute_request\n      reply_content = await reply_content\n    File \"/Users/ebolton/miniconda/lib/python3.9/site-packages/ipykernel/ipkernel.py\", line 383, in do_execute\n      res = shell.run_cell(\n    File \"/Users/ebolton/miniconda/lib/python3.9/site-packages/ipykernel/zmqshell.py\", line 528, in run_cell\n      return super().run_cell(*args, **kwargs)\n    File \"/Users/ebolton/miniconda/lib/python3.9/site-packages/IPython/core/interactiveshell.py\", line 2940, in run_cell\n      result = self._run_cell(\n    File \"/Users/ebolton/miniconda/lib/python3.9/site-packages/IPython/core/interactiveshell.py\", line 2995, in _run_cell\n      return runner(coro)\n    File \"/Users/ebolton/miniconda/lib/python3.9/site-packages/IPython/core/async_helpers.py\", line 129, in _pseudo_sync_runner\n      coro.send(None)\n    File \"/Users/ebolton/miniconda/lib/python3.9/site-packages/IPython/core/interactiveshell.py\", line 3194, in run_cell_async\n      has_raised = await self.run_ast_nodes(code_ast.body, cell_name,\n    File \"/Users/ebolton/miniconda/lib/python3.9/site-packages/IPython/core/interactiveshell.py\", line 3373, in run_ast_nodes\n      if await self.run_code(code, result, async_=asy):\n    File \"/Users/ebolton/miniconda/lib/python3.9/site-packages/IPython/core/interactiveshell.py\", line 3433, in run_code\n      exec(code_obj, self.user_global_ns, self.user_ns)\n    File \"/var/folders/69/zj__r59905g5mdvqlglk730r0000gn/T/ipykernel_41449/2652473642.py\", line 19, in <module>\n      model.fit(dataset, epochs=3)\n    File \"/Users/ebolton/miniconda/lib/python3.9/site-packages/keras/utils/traceback_utils.py\", line 65, in error_handler\n      return fn(*args, **kwargs)\n    File \"/Users/ebolton/miniconda/lib/python3.9/site-packages/keras/engine/training.py\", line 1564, in fit\n      tmp_logs = self.train_function(iterator)\n    File \"/Users/ebolton/miniconda/lib/python3.9/site-packages/keras/engine/training.py\", line 1160, in train_function\n      return step_function(self, iterator)\n    File \"/Users/ebolton/miniconda/lib/python3.9/site-packages/keras/engine/training.py\", line 1146, in step_function\n      outputs = model.distribute_strategy.run(run_step, args=(data,))\n    File \"/Users/ebolton/miniconda/lib/python3.9/site-packages/keras/engine/training.py\", line 1135, in run_step\n      outputs = model.train_step(data)\n    File \"/Users/ebolton/miniconda/lib/python3.9/site-packages/keras/engine/training.py\", line 994, in train_step\n      loss = self.compute_loss(x, y, y_pred, sample_weight)\n    File \"/Users/ebolton/miniconda/lib/python3.9/site-packages/keras/engine/training.py\", line 1052, in compute_loss\n      return self.compiled_loss(\n    File \"/Users/ebolton/miniconda/lib/python3.9/site-packages/keras/engine/compile_utils.py\", line 279, in __call__\n      batch_dim = tf.shape(y_t)[0]\nNode: 'strided_slice'\nDetected at node 'strided_slice' defined at (most recent call last):\n    File \"/Users/ebolton/miniconda/lib/python3.9/runpy.py\", line 197, in _run_module_as_main\n      return _run_code(code, main_globals, None,\n    File \"/Users/ebolton/miniconda/lib/python3.9/runpy.py\", line 87, in _run_code\n      exec(code, run_globals)\n    File \"/Users/ebolton/miniconda/lib/python3.9/site-packages/ipykernel_launcher.py\", line 17, in <module>\n      app.launch_new_instance()\n    File \"/Users/ebolton/miniconda/lib/python3.9/site-packages/traitlets/config/application.py\", line 846, in launch_instance\n      app.start()\n    File \"/Users/ebolton/miniconda/lib/python3.9/site-packages/ipykernel/kernelapp.py\", line 712, in start\n      self.io_loop.start()\n    File \"/Users/ebolton/miniconda/lib/python3.9/site-packages/tornado/platform/asyncio.py\", line 215, in start\n      self.asyncio_loop.run_forever()\n    File \"/Users/ebolton/miniconda/lib/python3.9/asyncio/base_events.py\", line 601, in run_forever\n      self._run_once()\n    File \"/Users/ebolton/miniconda/lib/python3.9/asyncio/base_events.py\", line 1905, in _run_once\n      handle._run()\n    File \"/Users/ebolton/miniconda/lib/python3.9/asyncio/events.py\", line 80, in _run\n      self._context.run(self._callback, *self._args)\n    File \"/Users/ebolton/miniconda/lib/python3.9/site-packages/ipykernel/kernelbase.py\", line 510, in dispatch_queue\n      await self.process_one()\n    File \"/Users/ebolton/miniconda/lib/python3.9/site-packages/ipykernel/kernelbase.py\", line 499, in process_one\n      await dispatch(*args)\n    File \"/Users/ebolton/miniconda/lib/python3.9/site-packages/ipykernel/kernelbase.py\", line 406, in dispatch_shell\n      await result\n    File \"/Users/ebolton/miniconda/lib/python3.9/site-packages/ipykernel/kernelbase.py\", line 730, in execute_request\n      reply_content = await reply_content\n    File \"/Users/ebolton/miniconda/lib/python3.9/site-packages/ipykernel/ipkernel.py\", line 383, in do_execute\n      res = shell.run_cell(\n    File \"/Users/ebolton/miniconda/lib/python3.9/site-packages/ipykernel/zmqshell.py\", line 528, in run_cell\n      return super().run_cell(*args, **kwargs)\n    File \"/Users/ebolton/miniconda/lib/python3.9/site-packages/IPython/core/interactiveshell.py\", line 2940, in run_cell\n      result = self._run_cell(\n    File \"/Users/ebolton/miniconda/lib/python3.9/site-packages/IPython/core/interactiveshell.py\", line 2995, in _run_cell\n      return runner(coro)\n    File \"/Users/ebolton/miniconda/lib/python3.9/site-packages/IPython/core/async_helpers.py\", line 129, in _pseudo_sync_runner\n      coro.send(None)\n    File \"/Users/ebolton/miniconda/lib/python3.9/site-packages/IPython/core/interactiveshell.py\", line 3194, in run_cell_async\n      has_raised = await self.run_ast_nodes(code_ast.body, cell_name,\n    File \"/Users/ebolton/miniconda/lib/python3.9/site-packages/IPython/core/interactiveshell.py\", line 3373, in run_ast_nodes\n      if await self.run_code(code, result, async_=asy):\n    File \"/Users/ebolton/miniconda/lib/python3.9/site-packages/IPython/core/interactiveshell.py\", line 3433, in run_code\n      exec(code_obj, self.user_global_ns, self.user_ns)\n    File \"/var/folders/69/zj__r59905g5mdvqlglk730r0000gn/T/ipykernel_41449/2652473642.py\", line 19, in <module>\n      model.fit(dataset, epochs=3)\n    File \"/Users/ebolton/miniconda/lib/python3.9/site-packages/keras/utils/traceback_utils.py\", line 65, in error_handler\n      return fn(*args, **kwargs)\n    File \"/Users/ebolton/miniconda/lib/python3.9/site-packages/keras/engine/training.py\", line 1564, in fit\n      tmp_logs = self.train_function(iterator)\n    File \"/Users/ebolton/miniconda/lib/python3.9/site-packages/keras/engine/training.py\", line 1160, in train_function\n      return step_function(self, iterator)\n    File \"/Users/ebolton/miniconda/lib/python3.9/site-packages/keras/engine/training.py\", line 1146, in step_function\n      outputs = model.distribute_strategy.run(run_step, args=(data,))\n    File \"/Users/ebolton/miniconda/lib/python3.9/site-packages/keras/engine/training.py\", line 1135, in run_step\n      outputs = model.train_step(data)\n    File \"/Users/ebolton/miniconda/lib/python3.9/site-packages/keras/engine/training.py\", line 994, in train_step\n      loss = self.compute_loss(x, y, y_pred, sample_weight)\n    File \"/Users/ebolton/miniconda/lib/python3.9/site-packages/keras/engine/training.py\", line 1052, in compute_loss\n      return self.compiled_loss(\n    File \"/Users/ebolton/miniconda/lib/python3.9/site-packages/keras/engine/compile_utils.py\", line 279, in __call__\n      batch_dim = tf.shape(y_t)[0]\nNode: 'strided_slice'\n2 root error(s) found.\n  (0) INVALID_ARGUMENT:  slice index 0 of dimension 0 out of bounds.\n\t [[{{node strided_slice}}]]\n\t [[mean_squared_error/cond/else/_1/mean_squared_error/cond/remove_squeezable_dimensions/Equal_1/_28]]\n  (1) INVALID_ARGUMENT:  slice index 0 of dimension 0 out of bounds.\n\t [[{{node strided_slice}}]]\n0 successful operations.\n0 derived errors ignored. [Op:__inference_train_function_10340]",
     "output_type": "error",
     "traceback": [
      "\u001b[0;31m---------------------------------------------------------------------------\u001b[0m",
      "\u001b[0;31mInvalidArgumentError\u001b[0m                      Traceback (most recent call last)",
      "Cell \u001b[0;32mIn [71], line 19\u001b[0m\n\u001b[1;32m     17\u001b[0m \u001b[38;5;28;01mfor\u001b[39;00m layer \u001b[38;5;129;01min\u001b[39;00m model\u001b[38;5;241m.\u001b[39mlayers:\n\u001b[1;32m     18\u001b[0m     \u001b[38;5;28mprint\u001b[39m(layer\u001b[38;5;241m.\u001b[39minput_shape, layer\u001b[38;5;241m.\u001b[39moutput_shape)\n\u001b[0;32m---> 19\u001b[0m \u001b[43mmodel\u001b[49m\u001b[38;5;241;43m.\u001b[39;49m\u001b[43mfit\u001b[49m\u001b[43m(\u001b[49m\u001b[43mdataset\u001b[49m\u001b[43m,\u001b[49m\u001b[43m \u001b[49m\u001b[43mepochs\u001b[49m\u001b[38;5;241;43m=\u001b[39;49m\u001b[38;5;241;43m3\u001b[39;49m\u001b[43m)\u001b[49m\n",
      "File \u001b[0;32m~/miniconda/lib/python3.9/site-packages/keras/utils/traceback_utils.py:70\u001b[0m, in \u001b[0;36mfilter_traceback.<locals>.error_handler\u001b[0;34m(*args, **kwargs)\u001b[0m\n\u001b[1;32m     67\u001b[0m     filtered_tb \u001b[38;5;241m=\u001b[39m _process_traceback_frames(e\u001b[38;5;241m.\u001b[39m__traceback__)\n\u001b[1;32m     68\u001b[0m     \u001b[38;5;66;03m# To get the full stack trace, call:\u001b[39;00m\n\u001b[1;32m     69\u001b[0m     \u001b[38;5;66;03m# `tf.debugging.disable_traceback_filtering()`\u001b[39;00m\n\u001b[0;32m---> 70\u001b[0m     \u001b[38;5;28;01mraise\u001b[39;00m e\u001b[38;5;241m.\u001b[39mwith_traceback(filtered_tb) \u001b[38;5;28;01mfrom\u001b[39;00m \u001b[38;5;28mNone\u001b[39m\n\u001b[1;32m     71\u001b[0m \u001b[38;5;28;01mfinally\u001b[39;00m:\n\u001b[1;32m     72\u001b[0m     \u001b[38;5;28;01mdel\u001b[39;00m filtered_tb\n",
      "File \u001b[0;32m~/miniconda/lib/python3.9/site-packages/tensorflow/python/eager/execute.py:54\u001b[0m, in \u001b[0;36mquick_execute\u001b[0;34m(op_name, num_outputs, inputs, attrs, ctx, name)\u001b[0m\n\u001b[1;32m     52\u001b[0m \u001b[38;5;28;01mtry\u001b[39;00m:\n\u001b[1;32m     53\u001b[0m   ctx\u001b[38;5;241m.\u001b[39mensure_initialized()\n\u001b[0;32m---> 54\u001b[0m   tensors \u001b[38;5;241m=\u001b[39m pywrap_tfe\u001b[38;5;241m.\u001b[39mTFE_Py_Execute(ctx\u001b[38;5;241m.\u001b[39m_handle, device_name, op_name,\n\u001b[1;32m     55\u001b[0m                                       inputs, attrs, num_outputs)\n\u001b[1;32m     56\u001b[0m \u001b[38;5;28;01mexcept\u001b[39;00m core\u001b[38;5;241m.\u001b[39m_NotOkStatusException \u001b[38;5;28;01mas\u001b[39;00m e:\n\u001b[1;32m     57\u001b[0m   \u001b[38;5;28;01mif\u001b[39;00m name \u001b[38;5;129;01mis\u001b[39;00m \u001b[38;5;129;01mnot\u001b[39;00m \u001b[38;5;28;01mNone\u001b[39;00m:\n",
      "\u001b[0;31mInvalidArgumentError\u001b[0m: Graph execution error:\n\nDetected at node 'strided_slice' defined at (most recent call last):\n    File \"/Users/ebolton/miniconda/lib/python3.9/runpy.py\", line 197, in _run_module_as_main\n      return _run_code(code, main_globals, None,\n    File \"/Users/ebolton/miniconda/lib/python3.9/runpy.py\", line 87, in _run_code\n      exec(code, run_globals)\n    File \"/Users/ebolton/miniconda/lib/python3.9/site-packages/ipykernel_launcher.py\", line 17, in <module>\n      app.launch_new_instance()\n    File \"/Users/ebolton/miniconda/lib/python3.9/site-packages/traitlets/config/application.py\", line 846, in launch_instance\n      app.start()\n    File \"/Users/ebolton/miniconda/lib/python3.9/site-packages/ipykernel/kernelapp.py\", line 712, in start\n      self.io_loop.start()\n    File \"/Users/ebolton/miniconda/lib/python3.9/site-packages/tornado/platform/asyncio.py\", line 215, in start\n      self.asyncio_loop.run_forever()\n    File \"/Users/ebolton/miniconda/lib/python3.9/asyncio/base_events.py\", line 601, in run_forever\n      self._run_once()\n    File \"/Users/ebolton/miniconda/lib/python3.9/asyncio/base_events.py\", line 1905, in _run_once\n      handle._run()\n    File \"/Users/ebolton/miniconda/lib/python3.9/asyncio/events.py\", line 80, in _run\n      self._context.run(self._callback, *self._args)\n    File \"/Users/ebolton/miniconda/lib/python3.9/site-packages/ipykernel/kernelbase.py\", line 510, in dispatch_queue\n      await self.process_one()\n    File \"/Users/ebolton/miniconda/lib/python3.9/site-packages/ipykernel/kernelbase.py\", line 499, in process_one\n      await dispatch(*args)\n    File \"/Users/ebolton/miniconda/lib/python3.9/site-packages/ipykernel/kernelbase.py\", line 406, in dispatch_shell\n      await result\n    File \"/Users/ebolton/miniconda/lib/python3.9/site-packages/ipykernel/kernelbase.py\", line 730, in execute_request\n      reply_content = await reply_content\n    File \"/Users/ebolton/miniconda/lib/python3.9/site-packages/ipykernel/ipkernel.py\", line 383, in do_execute\n      res = shell.run_cell(\n    File \"/Users/ebolton/miniconda/lib/python3.9/site-packages/ipykernel/zmqshell.py\", line 528, in run_cell\n      return super().run_cell(*args, **kwargs)\n    File \"/Users/ebolton/miniconda/lib/python3.9/site-packages/IPython/core/interactiveshell.py\", line 2940, in run_cell\n      result = self._run_cell(\n    File \"/Users/ebolton/miniconda/lib/python3.9/site-packages/IPython/core/interactiveshell.py\", line 2995, in _run_cell\n      return runner(coro)\n    File \"/Users/ebolton/miniconda/lib/python3.9/site-packages/IPython/core/async_helpers.py\", line 129, in _pseudo_sync_runner\n      coro.send(None)\n    File \"/Users/ebolton/miniconda/lib/python3.9/site-packages/IPython/core/interactiveshell.py\", line 3194, in run_cell_async\n      has_raised = await self.run_ast_nodes(code_ast.body, cell_name,\n    File \"/Users/ebolton/miniconda/lib/python3.9/site-packages/IPython/core/interactiveshell.py\", line 3373, in run_ast_nodes\n      if await self.run_code(code, result, async_=asy):\n    File \"/Users/ebolton/miniconda/lib/python3.9/site-packages/IPython/core/interactiveshell.py\", line 3433, in run_code\n      exec(code_obj, self.user_global_ns, self.user_ns)\n    File \"/var/folders/69/zj__r59905g5mdvqlglk730r0000gn/T/ipykernel_41449/2652473642.py\", line 19, in <module>\n      model.fit(dataset, epochs=3)\n    File \"/Users/ebolton/miniconda/lib/python3.9/site-packages/keras/utils/traceback_utils.py\", line 65, in error_handler\n      return fn(*args, **kwargs)\n    File \"/Users/ebolton/miniconda/lib/python3.9/site-packages/keras/engine/training.py\", line 1564, in fit\n      tmp_logs = self.train_function(iterator)\n    File \"/Users/ebolton/miniconda/lib/python3.9/site-packages/keras/engine/training.py\", line 1160, in train_function\n      return step_function(self, iterator)\n    File \"/Users/ebolton/miniconda/lib/python3.9/site-packages/keras/engine/training.py\", line 1146, in step_function\n      outputs = model.distribute_strategy.run(run_step, args=(data,))\n    File \"/Users/ebolton/miniconda/lib/python3.9/site-packages/keras/engine/training.py\", line 1135, in run_step\n      outputs = model.train_step(data)\n    File \"/Users/ebolton/miniconda/lib/python3.9/site-packages/keras/engine/training.py\", line 994, in train_step\n      loss = self.compute_loss(x, y, y_pred, sample_weight)\n    File \"/Users/ebolton/miniconda/lib/python3.9/site-packages/keras/engine/training.py\", line 1052, in compute_loss\n      return self.compiled_loss(\n    File \"/Users/ebolton/miniconda/lib/python3.9/site-packages/keras/engine/compile_utils.py\", line 279, in __call__\n      batch_dim = tf.shape(y_t)[0]\nNode: 'strided_slice'\nDetected at node 'strided_slice' defined at (most recent call last):\n    File \"/Users/ebolton/miniconda/lib/python3.9/runpy.py\", line 197, in _run_module_as_main\n      return _run_code(code, main_globals, None,\n    File \"/Users/ebolton/miniconda/lib/python3.9/runpy.py\", line 87, in _run_code\n      exec(code, run_globals)\n    File \"/Users/ebolton/miniconda/lib/python3.9/site-packages/ipykernel_launcher.py\", line 17, in <module>\n      app.launch_new_instance()\n    File \"/Users/ebolton/miniconda/lib/python3.9/site-packages/traitlets/config/application.py\", line 846, in launch_instance\n      app.start()\n    File \"/Users/ebolton/miniconda/lib/python3.9/site-packages/ipykernel/kernelapp.py\", line 712, in start\n      self.io_loop.start()\n    File \"/Users/ebolton/miniconda/lib/python3.9/site-packages/tornado/platform/asyncio.py\", line 215, in start\n      self.asyncio_loop.run_forever()\n    File \"/Users/ebolton/miniconda/lib/python3.9/asyncio/base_events.py\", line 601, in run_forever\n      self._run_once()\n    File \"/Users/ebolton/miniconda/lib/python3.9/asyncio/base_events.py\", line 1905, in _run_once\n      handle._run()\n    File \"/Users/ebolton/miniconda/lib/python3.9/asyncio/events.py\", line 80, in _run\n      self._context.run(self._callback, *self._args)\n    File \"/Users/ebolton/miniconda/lib/python3.9/site-packages/ipykernel/kernelbase.py\", line 510, in dispatch_queue\n      await self.process_one()\n    File \"/Users/ebolton/miniconda/lib/python3.9/site-packages/ipykernel/kernelbase.py\", line 499, in process_one\n      await dispatch(*args)\n    File \"/Users/ebolton/miniconda/lib/python3.9/site-packages/ipykernel/kernelbase.py\", line 406, in dispatch_shell\n      await result\n    File \"/Users/ebolton/miniconda/lib/python3.9/site-packages/ipykernel/kernelbase.py\", line 730, in execute_request\n      reply_content = await reply_content\n    File \"/Users/ebolton/miniconda/lib/python3.9/site-packages/ipykernel/ipkernel.py\", line 383, in do_execute\n      res = shell.run_cell(\n    File \"/Users/ebolton/miniconda/lib/python3.9/site-packages/ipykernel/zmqshell.py\", line 528, in run_cell\n      return super().run_cell(*args, **kwargs)\n    File \"/Users/ebolton/miniconda/lib/python3.9/site-packages/IPython/core/interactiveshell.py\", line 2940, in run_cell\n      result = self._run_cell(\n    File \"/Users/ebolton/miniconda/lib/python3.9/site-packages/IPython/core/interactiveshell.py\", line 2995, in _run_cell\n      return runner(coro)\n    File \"/Users/ebolton/miniconda/lib/python3.9/site-packages/IPython/core/async_helpers.py\", line 129, in _pseudo_sync_runner\n      coro.send(None)\n    File \"/Users/ebolton/miniconda/lib/python3.9/site-packages/IPython/core/interactiveshell.py\", line 3194, in run_cell_async\n      has_raised = await self.run_ast_nodes(code_ast.body, cell_name,\n    File \"/Users/ebolton/miniconda/lib/python3.9/site-packages/IPython/core/interactiveshell.py\", line 3373, in run_ast_nodes\n      if await self.run_code(code, result, async_=asy):\n    File \"/Users/ebolton/miniconda/lib/python3.9/site-packages/IPython/core/interactiveshell.py\", line 3433, in run_code\n      exec(code_obj, self.user_global_ns, self.user_ns)\n    File \"/var/folders/69/zj__r59905g5mdvqlglk730r0000gn/T/ipykernel_41449/2652473642.py\", line 19, in <module>\n      model.fit(dataset, epochs=3)\n    File \"/Users/ebolton/miniconda/lib/python3.9/site-packages/keras/utils/traceback_utils.py\", line 65, in error_handler\n      return fn(*args, **kwargs)\n    File \"/Users/ebolton/miniconda/lib/python3.9/site-packages/keras/engine/training.py\", line 1564, in fit\n      tmp_logs = self.train_function(iterator)\n    File \"/Users/ebolton/miniconda/lib/python3.9/site-packages/keras/engine/training.py\", line 1160, in train_function\n      return step_function(self, iterator)\n    File \"/Users/ebolton/miniconda/lib/python3.9/site-packages/keras/engine/training.py\", line 1146, in step_function\n      outputs = model.distribute_strategy.run(run_step, args=(data,))\n    File \"/Users/ebolton/miniconda/lib/python3.9/site-packages/keras/engine/training.py\", line 1135, in run_step\n      outputs = model.train_step(data)\n    File \"/Users/ebolton/miniconda/lib/python3.9/site-packages/keras/engine/training.py\", line 994, in train_step\n      loss = self.compute_loss(x, y, y_pred, sample_weight)\n    File \"/Users/ebolton/miniconda/lib/python3.9/site-packages/keras/engine/training.py\", line 1052, in compute_loss\n      return self.compiled_loss(\n    File \"/Users/ebolton/miniconda/lib/python3.9/site-packages/keras/engine/compile_utils.py\", line 279, in __call__\n      batch_dim = tf.shape(y_t)[0]\nNode: 'strided_slice'\n2 root error(s) found.\n  (0) INVALID_ARGUMENT:  slice index 0 of dimension 0 out of bounds.\n\t [[{{node strided_slice}}]]\n\t [[mean_squared_error/cond/else/_1/mean_squared_error/cond/remove_squeezable_dimensions/Equal_1/_28]]\n  (1) INVALID_ARGUMENT:  slice index 0 of dimension 0 out of bounds.\n\t [[{{node strided_slice}}]]\n0 successful operations.\n0 derived errors ignored. [Op:__inference_train_function_10340]"
     ]
    }
   ],
   "source": [
    "# Define a generator function that yields data\n",
    "def my_generator():\n",
    "  for i in range(10):\n",
    "    yield (i, i*2)\n",
    "\n",
    "# Create a Dataset object from the generator\n",
    "dataset = tf.data.Dataset.from_generator(my_generator, (tf.int32, tf.int32))\n",
    "\n",
    "# Use the Dataset in a TensorFlow model\n",
    "model = tf.keras.models.Sequential([\n",
    "  tf.keras.layers.Dense(10, input_shape=(1,)),\n",
    "  tf.keras.layers.Dense(1)\n",
    "])\n",
    "model.compile(optimizer=tf.keras.optimizers.Adam(), loss='mse')\n",
    "print(list(my_generator()))\n",
    "print(model.summary())\n",
    "for layer in model.layers:\n",
    "    print(layer.input_shape, layer.output_shape)\n",
    "model.fit(dataset, epochs=3)"
   ]
  },
  {
   "cell_type": "code",
   "execution_count": 48,
   "id": "0ca91e80",
   "metadata": {},
   "outputs": [
    {
     "data": {
      "text/plain": [
       "[PhysicalDevice(name='/physical_device:GPU:0', device_type='GPU')]"
      ]
     },
     "execution_count": 48,
     "metadata": {},
     "output_type": "execute_result"
    }
   ],
   "source": [
    "import tensorflow as tf\n",
    "tf.config.list_physical_devices('GPU')\n",
    "# tf.test.is_gpu_available()"
   ]
  },
  {
   "cell_type": "markdown",
   "id": "9becc4bf",
   "metadata": {},
   "source": [
    "# Performance Stats"
   ]
  },
  {
   "cell_type": "code",
   "execution_count": null,
   "id": "c025f17b",
   "metadata": {},
   "outputs": [],
   "source": [
    "import matplotlib.pyplot as plt\n",
    "plt.plot(hist.history['loss'])\n",
    "plt.show()"
   ]
  },
  {
   "cell_type": "markdown",
   "id": "bb665bb4",
   "metadata": {},
   "source": [
    "# Build word -> vector mapping"
   ]
  },
  {
   "cell_type": "code",
   "execution_count": null,
   "id": "8200d622",
   "metadata": {},
   "outputs": [],
   "source": [
    "weights = model.get_weights()[0]\n",
    "print(weights)\n",
    "print(weights.shape)\n",
    "word2vec = {}\n",
    "for word in wordset:\n",
    "    vec = weights[word2idx[word]]\n",
    "    word2vec[word] = vec"
   ]
  },
  {
   "cell_type": "markdown",
   "id": "8d454390",
   "metadata": {},
   "source": [
    "# Check pair counts"
   ]
  },
  {
   "cell_type": "code",
   "execution_count": null,
   "id": "25ce596c",
   "metadata": {},
   "outputs": [],
   "source": [
    "print(len(pairs))\n",
    "print(len(set(pairs)))\n",
    "s = set(pairs)\n",
    "counts = {}\n",
    "for p in pairs:\n",
    "    if p not in counts:\n",
    "        counts[p] = 1\n",
    "    else:\n",
    "        counts[p] = counts[p]+1\n",
    "sortedpairs = sorted(list(s), key=lambda p: counts[p], reverse=True)\n",
    "for p in sortedpairs:\n",
    "    print(counts[p], p)"
   ]
  },
  {
   "cell_type": "markdown",
   "id": "a5a63c8a",
   "metadata": {},
   "source": [
    "# Get nearest neighbors"
   ]
  },
  {
   "cell_type": "code",
   "execution_count": null,
   "id": "e8c96215",
   "metadata": {},
   "outputs": [],
   "source": [
    "targetWord = 'Biden'\n",
    "v = word2vec[targetWord]\n",
    "print(v.shape)\n",
    "\n",
    "dists = {}\n",
    "for word, vec in word2vec.items():\n",
    "    d = np.linalg.norm(v - vec)\n",
    "    dists[word] = d\n",
    "\n",
    "allwords = list(wordset)\n",
    "allwords = sorted(allwords, key=lambda w: dists[w])\n",
    "N = 10\n",
    "for i in range(N):\n",
    "    d = dists[allwords[i]]\n",
    "    print(f\"{i:<2} {str(round(d, 3)):<6} {allwords[i]}\")"
   ]
  },
  {
   "cell_type": "markdown",
   "id": "573f5db8",
   "metadata": {},
   "source": [
    "# Export wordset"
   ]
  },
  {
   "cell_type": "code",
   "execution_count": null,
   "id": "2f87618a",
   "metadata": {},
   "outputs": [],
   "source": [
    "wordtext = '\\n'.join(wordset)\n",
    "with open('wordset.txt', 'w') as file:\n",
    "    file.write(wordtext)\n",
    "    print('WROTE FILE')"
   ]
  },
  {
   "cell_type": "code",
   "execution_count": null,
   "id": "7035685b",
   "metadata": {},
   "outputs": [],
   "source": []
  }
 ],
 "metadata": {
  "kernelspec": {
   "display_name": "Python 3 (ipykernel)",
   "language": "python",
   "name": "python3"
  },
  "language_info": {
   "codemirror_mode": {
    "name": "ipython",
    "version": 3
   },
   "file_extension": ".py",
   "mimetype": "text/x-python",
   "name": "python",
   "nbconvert_exporter": "python",
   "pygments_lexer": "ipython3",
   "version": "3.9.12"
  }
 },
 "nbformat": 4,
 "nbformat_minor": 5
}
