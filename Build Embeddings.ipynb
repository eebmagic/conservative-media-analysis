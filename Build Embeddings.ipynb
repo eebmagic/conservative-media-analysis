{
 "cells": [
  {
   "cell_type": "markdown",
   "id": "ce498b90",
   "metadata": {},
   "source": [
    "# Imports"
   ]
  },
  {
   "cell_type": "code",
   "execution_count": 2,
   "id": "5e7bfd37",
   "metadata": {},
   "outputs": [
    {
     "name": "stderr",
     "output_type": "stream",
     "text": [
      "[nltk_data] Downloading package wordnet to /Users/ebolton/nltk_data...\n",
      "[nltk_data]   Package wordnet is already up-to-date!\n",
      "[nltk_data] Downloading package wordnet to /Users/ebolton/nltk_data...\n",
      "[nltk_data]   Package wordnet is already up-to-date!\n"
     ]
    },
    {
     "data": {
      "text/plain": [
       "True"
      ]
     },
     "execution_count": 2,
     "metadata": {},
     "output_type": "execute_result"
    }
   ],
   "source": [
    "from dataProcessing import getTextsInDateRange, getPairs, getFullWordset, buildTokenizer\n",
    "import numpy as np\n",
    "import tensorflow as tf\n",
    "from keras.models import Model\n",
    "from keras.layers import Input, Dense\n",
    "\n",
    "import random\n",
    "import nltk\n",
    "nltk.download('wordnet')"
   ]
  },
  {
   "cell_type": "markdown",
   "id": "fdf0efd9",
   "metadata": {},
   "source": [
    "# Conda env checking\n",
    "From article here:\n",
    "https://towardsdatascience.com/get-your-conda-environment-to-show-in-jupyter-notebooks-the-easy-way-17010b76e874\n",
    "\n",
    "If conda env is being used correctly, the environment variable below should be `base`."
   ]
  },
  {
   "cell_type": "code",
   "execution_count": 3,
   "id": "0ce9feb0",
   "metadata": {},
   "outputs": [
    {
     "name": "stdout",
     "output_type": "stream",
     "text": [
      "base\n"
     ]
    }
   ],
   "source": [
    "import os\n",
    "print(os.environ['CONDA_DEFAULT_ENV'])"
   ]
  },
  {
   "cell_type": "markdown",
   "id": "f486e10d",
   "metadata": {},
   "source": [
    "# Constants"
   ]
  },
  {
   "cell_type": "code",
   "execution_count": 4,
   "id": "b56e7b7d",
   "metadata": {},
   "outputs": [],
   "source": [
    "CHANNEL_MAPPINGS = {\n",
    "#     \"Daily Wire\": \"UCroKPvbmaQKGK5tjtQsvaDw\",\n",
    "    \"Ben Shapiro\": \"UCnQC_G5Xsjhp9fEJKuIcrSw\",\n",
    "#     \"Daily Wire Plus\": \"UCaeO5vkdj5xOQHp4UmIN6dw\",\n",
    "#     \"Matt Walsh\": \"UCO01ytfzgXYy4glnPJm4PPQ\",\n",
    "#     \"Michael Knowls\": \"UCr4kgAUTFkGIwlWSodg43QA\",\n",
    "#     \"Candace Owens\": \"UCkY4fdKOFk3Kiq7g5LLKYLw\"\n",
    "}"
   ]
  },
  {
   "cell_type": "markdown",
   "id": "2139ba75",
   "metadata": {},
   "source": [
    "# Parameters"
   ]
  },
  {
   "cell_type": "code",
   "execution_count": 5,
   "id": "9a5afd3a",
   "metadata": {},
   "outputs": [],
   "source": [
    "# channels = ['Ben Shapiro']\n",
    "channels = list(CHANNEL_MAPPINGS.keys())\n",
    "start = 2021\n",
    "stop = 2023"
   ]
  },
  {
   "cell_type": "markdown",
   "id": "1661dfc2",
   "metadata": {},
   "source": [
    "# Get Texts"
   ]
  },
  {
   "cell_type": "code",
   "execution_count": 6,
   "id": "390fe59b",
   "metadata": {},
   "outputs": [
    {
     "name": "stderr",
     "output_type": "stream",
     "text": [
      "[nltk_data] Downloading package omw-1.4 to /Users/ebolton/nltk_data...\n",
      "[nltk_data]   Package omw-1.4 is already up-to-date!\n"
     ]
    },
    {
     "name": "stdout",
     "output_type": "stream",
     "text": [
      "[['sad', 'left', 'california', 'tell', 'thought', 'one', 'day', 'decision', 'one', 'best', 'decision', 'ever', 'made', 'family', 'know', 'orthodox', 'jewish', 'faith', 'mean', 'move', 'place', 'significant', 'jewish', 'resource', 'inundation', 'homelessness', 'area', 'like', 'kid', 'could'], ['bizarre', 'new', 'world', 'created', 'counter-reality', 'new', 'world', \"we've\", 'created', 'assigning', 'sex', 'baby', 'dc', 'forcing', 'label', 'mother', \"that's\", 'case', 'throne', 'mother', 'whole', 'birth', 'certificate', 'thing', 'really', 'really', 'causing', 'lot', 'oh', 'i'], ['end', 'entire', 'group', 'people', 'single', 'woman', 'falling', 'behind', 'married', 'woman', 'engaged', 'social', 'structure', 'important', 'mediating', 'institution', 'human', 'existence', 'marriage', 'ripped', 'away', \"they've\", 'told', 'longer', 'essential', 'important', 'fact', 'many', 'way', 'institution'], ['idea', 'left', 'everybody', 'right', 'keep', 'saying', \"there's\", 'election', 'fraud', \"that's\", 'reason', \"they're\", 'losing', 'election', 'left', \"there's\", 'dual', 'narrative', 'one', 'voter', 'suppression', 'exist', 'two', 'idea', 'must', 'disinformation', 'lose', 'well', 'also', 'explains'], ['true', 'people', 'talk', 'thing', 'want', 'talked', \"that's\", 'true', 'either', 'wanted', 'cancel', 'malcolm', \"i'm\", 'sorry', 'lying', \"that's\", 'fine', 'lying', \"i've\", 'personally', 'talked', 'many', 'thing', 'mentioned', 'define', 'critical', 'critical', 'race', 'theory', 'citing'], ['i', 'think', 'capitalism', 'stupid', 'work', 'i', 'mean', 'obviously', 'look', 'country', 'work', 'okay', 'pause', 'one', 'second', 'favorite', 'people', 'wearing', 'thing', 'bought', 'store', 'much', 'nicer', 'anything', 'could', 'get', 'communist', 'country', 'capitalism', 'obviously'], ['become', 'controversial', 'suggest', 'child', 'deserves', 'mother', 'father', 'deprived', 'child', 'mother', 'father', 'would', 'make', 'child', 'abuser', 'society', 'decided', 'mother', 'father', 'longer', 'word', 'said', 'many', 'kid', 'brought', 'family', 'mother', 'father', \"can't\", 'pretend'], ['create', 'oversensitive', 'society', \"there's\", 'premium', 'placed', 'offended', 'get', 'rewarded', 'offended', 'actually', 'creating', 'mental', 'illness', 'among', 'people', 'right', 'one', 'key', 'method', 'use', 'example', 'defeat', 'depression', 'trying', 'therapy', 'cognitive', 'behavioral', 'therapy', 'chain'], ['yesterday', 'senate', 'united', 'state', 'voted', 'push', 'forward', 'same-sex', 'marriage', 'legislation', 'calling', 'respect', 'marriage', 'act', 'absurd', 'respect', 'marriage', 'act', 'fundamentally', 'change', 'definition', 'word', 'marriage', 'respect', 'marriage', 'call', 'lot', 'thing', \"can't\", 'call'], ['favorite', 'argument', \"god's\", 'existence', 'favorite', 'argument', \"god's\", 'existence', 'believe', 'free', 'okay', 'reason', 'think', 'argument', \"god's\", 'existence', 'believe', 'human', 'being', 'essentially', 'ball', 'meat', 'wandering', 'around', 'aimlessly', 'universe', 'kind', 'spinosa', 'stone', 'think']]\n",
      "\n",
      "Found 583 videos for channels: \n",
      "  - Ben Shapiro\n"
     ]
    }
   ],
   "source": [
    "nltk.download('omw-1.4')\n",
    "channelIds = [CHANNEL_MAPPINGS[c] for c in channels]\n",
    "texts = getTextsInDateRange(channelIds, start, stop, cleaned=True)\n",
    "channelstext = \"\\n  - \".join(channels)\n",
    "print([t[:30] for t in texts[:10]])\n",
    "print()\n",
    "print(f'Found {len(texts)} videos for channels: \\n  - {channelstext}')"
   ]
  },
  {
   "cell_type": "markdown",
   "id": "1f23b12a",
   "metadata": {},
   "source": [
    "# Build Pairs"
   ]
  },
  {
   "cell_type": "code",
   "execution_count": 7,
   "id": "553e0a51",
   "metadata": {},
   "outputs": [
    {
     "name": "stderr",
     "output_type": "stream",
     "text": [
      "100%|█████████████████████████████████████████████████████████████████████████████████████████████████████████████████████████████████████████████████████████████████████████████████████████████████████████████████████████████████████████████████████████████████████████████████████| 583/583 [00:00<00:00, 830.42it/s]"
     ]
    },
    {
     "name": "stdout",
     "output_type": "stream",
     "text": [
      "[('sad', 'left'), ('sad', 'california'), ('left', 'california'), ('left', 'sad'), ('left', 'tell'), ('california', 'tell'), ('california', 'left'), ('california', 'thought'), ('california', 'sad'), ('tell', 'thought')]\n",
      "[('unsafe', 'u'), ('price', 'driving'), ('whether', 'next'), ('judge', 'broke'), ('capable', 'extremely'), ('crypto', 'ira'), ('said', 'still'), ('blind', 'feeling'), ('appreciation', 'got'), (\"there's\", 'look'), ('marriage', 'made'), ('see', 'new'), ('people', 'state'), ('death', 'unborn'), ('raised', 'best'), ('financing', 'star'), ('brzezinski', \"here's\"), ('blame', 'article'), ('srinivisian', 'solid'), ('jeffrey', 'kind'), ('internet', 'server'), (\"we're\", 'well'), ('spending', 'showing'), ('knowledge', 'diverse'), ('i', 'frankly'), ('conversation', 'hear'), ('warning', 'strike'), ('nypd', 'swore'), ('uh', 'right'), ('course', 'fell'), ('made', 'ever'), ('american', 'farm'), ('hit', 'one'), ('i', 'gender'), ('created', 'separate'), ('fob', 'instead'), ('people', 'think'), ('worker', 'lower'), ('line', 'wildly'), ('united', 'people'), ('zeldin', 'trumpism'), ('crime', 'would'), ('people', 'left'), ('recuse', 'bear'), ('changed', 'way'), ('minute', 'clinton'), ('end', \"it'll\"), ('house', 'tweet'), ('fabiola', 'artist'), ('50', 'gain'), ('happening', \"that's\"), ('beloved', 'pete'), ('getting', 'active'), (\"that's\", 'really'), ('moved', '000'), ('may', 'become'), ('illegal', 'people'), ('200', \"they're\"), ('james', 'lebron'), ('bumper', 'prageru'), ('medium', 'lot'), ('achieve', 'happiness'), ('mine', 'second'), ('bullied', 'attacked'), (\"there's\", 'news'), ('right', 'taking'), ('raised', 'using'), ('happening', 'around'), ('place', 'suicide'), ('new', 'ousted'), ('within', 'today'), ('um', 'community'), ('tell', 'important'), ('rude', 'awakening'), ('club', 'average'), ('life', 'one'), ('pretty', 'significant'), ('saying', 'want'), ('running', 'away'), ('support', 'rule'), ('think', 'infrastructure'), ('illegal', 'leak'), ('ukrainian', 'base'), (\"that's\", 'hitler'), ('agree', 'least'), ('reporter', 'donald'), (\"i'm\", 'respect'), ('i', 'batman'), ('yeah', 'unborn'), ('word', 'longer'), ('touch', 'democrat'), (\"broyle's\", 'attorney'), ('track', 'phone'), ('hand', 'republican'), ('passing', 'bill'), ('high', 'audio'), ('u', 'today'), ('cram', 'social'), ('glenn', 'wjla.com'), (\"they're\", \"they're\")]\n",
      "Built 4492998 pairs\n"
     ]
    },
    {
     "name": "stderr",
     "output_type": "stream",
     "text": [
      "\n"
     ]
    }
   ],
   "source": [
    "pairs = getPairs(texts, window=2)\n",
    "print(pairs[:10])\n",
    "print(random.sample(pairs, 100))\n",
    "print(f'Built {len(pairs)} pairs')"
   ]
  },
  {
   "cell_type": "markdown",
   "id": "5958666e",
   "metadata": {},
   "source": [
    "# Get wordset and build tokenizer"
   ]
  },
  {
   "cell_type": "code",
   "execution_count": 8,
   "id": "663e2816",
   "metadata": {},
   "outputs": [
    {
     "name": "stdout",
     "output_type": "stream",
     "text": [
      "['', 'remaking', 'clayton', 'daisy', 'sundering', 'fade', 'battling', 'cascade', 'mother', 'squarely', 'non-lethal', 'estrogen', 'forgettable', '2001.', 'celebratory', 'amounted', 'possibly', 'bailing', 'sensor', '081']\n",
      "[\"i'ma\", \"solar's\", 'helfer', 'ramp', 'tug', 'applied', 'cali', 'walker', 'amica', 'relativity', 'unencrypted', 'iced', 'civilize', 'greenland', 'doom', 'timeline', 'galloping', 'school', 'segregationist', 'univable']\n",
      "Wordset is size: 30493\n"
     ]
    }
   ],
   "source": [
    "wordset = getFullWordset(texts)\n",
    "word2idx, idx2word = buildTokenizer(wordset)\n",
    "print(list(wordset)[:20])\n",
    "print(random.sample(list(wordset), 20))\n",
    "print(f'Wordset is size: {len(wordset)}')"
   ]
  },
  {
   "cell_type": "markdown",
   "id": "efb31415",
   "metadata": {},
   "source": [
    "# Convert Pairs to ints"
   ]
  },
  {
   "cell_type": "code",
   "execution_count": 10,
   "id": "98f0b499",
   "metadata": {},
   "outputs": [
    {
     "name": "stdout",
     "output_type": "stream",
     "text": [
      "[(21865, 4200), (27293, 6100), (29741, 16786), (15597, 29298), (12584, 17231), (11166, 29683), (7654, 3391), (1311, 3825), (7055, 12373), (4640, 27077)]\n",
      "Total pairs: 1775754\n"
     ]
    }
   ],
   "source": [
    "def pairToInts(pair, mapping):\n",
    "    a, b = pair\n",
    "    return (mapping[a], mapping[b])\n",
    "\n",
    "pairset = set(pairs)\n",
    "intpairs = [pairToInts(p, word2idx) for p in pairs]\n",
    "print(intpairs[:10])\n",
    "print(f'Total pairs: {len(intpairs)}')"
   ]
  },
  {
   "cell_type": "markdown",
   "id": "65b54524",
   "metadata": {},
   "source": [
    "# Count pairs for creating weights"
   ]
  },
  {
   "cell_type": "code",
   "execution_count": 11,
   "id": "65ca404b",
   "metadata": {},
   "outputs": [],
   "source": [
    "pairWeights = {}\n",
    "for pair in intpairs:\n",
    "    if pair not in pairWeights:\n",
    "        pairWeights[pair] = 0\n",
    "    pairWeights[pair] += 1"
   ]
  },
  {
   "cell_type": "markdown",
   "id": "2a1b37d9",
   "metadata": {},
   "source": [
    "# Define generating function for data"
   ]
  },
  {
   "cell_type": "code",
   "execution_count": 13,
   "id": "34694d03",
   "metadata": {},
   "outputs": [
    {
     "name": "stdout",
     "output_type": "stream",
     "text": [
      "[[21865  4200]\n",
      " [27293  6100]\n",
      " [29741 16786]\n",
      " ...\n",
      " [25177 17156]\n",
      " [12057 19647]\n",
      " [19928 16968]]\n",
      "(1775754, 2)\n"
     ]
    }
   ],
   "source": [
    "npintpairs = np.array(intpairs)\n",
    "print(npintpairs)\n",
    "print(npintpairs.shape)"
   ]
  },
  {
   "cell_type": "code",
   "execution_count": 32,
   "id": "c5652ada",
   "metadata": {},
   "outputs": [],
   "source": [
    "from keras.utils import Sequence\n",
    "class DataGenerator(Sequence):\n",
    "    def __init__(self, x, y, maxval, batch_size=32):\n",
    "        '''\n",
    "        Input should be intger pairs.\n",
    "        Where x and y are numpy arrays of shape (N,)\n",
    "        '''\n",
    "        self.x = x\n",
    "        self.y = y\n",
    "        self.max = maxval\n",
    "        self.batch_size = batch_size\n",
    "    \n",
    "    def __len__(self):\n",
    "        return int(np.floor(len(self.x) / self.batch_size))\n",
    "    \n",
    "    def __getitem__(self, index):\n",
    "        start = index * self.batch_size\n",
    "        stop = (index + 1) * self.batch_size\n",
    "        X = self.x[start:stop]\n",
    "        Y = self.y[start:stop]\n",
    "        xtf = tf.one_hot(X, self.max)\n",
    "        ytf = tf.one_hot(Y, self.max)\n",
    "        return (xtf, ytf)"
   ]
  },
  {
   "cell_type": "code",
   "execution_count": 40,
   "id": "886af180",
   "metadata": {},
   "outputs": [
    {
     "name": "stdout",
     "output_type": "stream",
     "text": [
      "[21865 27293 29741 ... 25177 12057 19928]\n",
      "(1775754,)\n",
      "[ 4200  6100 16786 ... 17156 19647 16968]\n",
      "(1775754,)\n"
     ]
    }
   ],
   "source": [
    "# xints = npintpairs[:1_000, 0]\n",
    "# yints = npintpairs[:1_000, 1]\n",
    "xints = npintpairs[:, 0]\n",
    "yints = npintpairs[:, 1]\n",
    "print(xints)\n",
    "print(xints.shape)\n",
    "print(yints)\n",
    "print(yints.shape)"
   ]
  },
  {
   "cell_type": "code",
   "execution_count": 49,
   "id": "66df324e",
   "metadata": {},
   "outputs": [
    {
     "name": "stdout",
     "output_type": "stream",
     "text": [
      "dgen batch size: 10000\n",
      "(<tf.Tensor: shape=(10000, 30493), dtype=float32, numpy=\n",
      "array([[0., 0., 0., ..., 0., 0., 0.],\n",
      "       [0., 0., 0., ..., 0., 0., 0.],\n",
      "       [0., 0., 0., ..., 0., 0., 0.],\n",
      "       ...,\n",
      "       [0., 0., 0., ..., 0., 0., 0.],\n",
      "       [0., 0., 0., ..., 0., 0., 0.],\n",
      "       [0., 0., 0., ..., 0., 0., 0.]], dtype=float32)>, <tf.Tensor: shape=(10000, 30493), dtype=float32, numpy=\n",
      "array([[0., 0., 0., ..., 0., 0., 0.],\n",
      "       [0., 0., 0., ..., 0., 0., 0.],\n",
      "       [0., 0., 0., ..., 0., 0., 0.],\n",
      "       ...,\n",
      "       [0., 0., 0., ..., 0., 0., 0.],\n",
      "       [0., 0., 0., ..., 0., 0., 0.],\n",
      "       [0., 0., 0., ..., 0., 0., 0.]], dtype=float32)>)\n",
      "177\n"
     ]
    }
   ],
   "source": [
    "dgen = DataGenerator(xints, yints, len(wordset), batch_size=10_000)\n",
    "print(f'dgen batch size: {dgen.batch_size}')\n",
    "print(dgen[0])\n",
    "print(len(dgen))"
   ]
  },
  {
   "cell_type": "markdown",
   "id": "5b8e72a9",
   "metadata": {},
   "source": [
    "# Build and compile NNet"
   ]
  },
  {
   "cell_type": "code",
   "execution_count": 50,
   "id": "4d0f354b",
   "metadata": {},
   "outputs": [],
   "source": [
    "EMBED_SIZE = 64\n",
    "os.environ[\"CUDA_VISIBLE_DEVICES\"] = \"\""
   ]
  },
  {
   "cell_type": "code",
   "execution_count": 51,
   "id": "e86e4e2e",
   "metadata": {},
   "outputs": [],
   "source": [
    "inp = Input(shape=(len(wordset),))\n",
    "x = Dense(units=EMBED_SIZE, activation='linear')(inp)\n",
    "x = Dense(units=len(wordset), activation='softmax')(x)\n",
    "model = Model(inputs=inp, outputs=x)\n",
    "model.compile(loss='categorical_crossentropy', optimizer='adam')"
   ]
  },
  {
   "cell_type": "code",
   "execution_count": 52,
   "id": "a08be650",
   "metadata": {},
   "outputs": [
    {
     "name": "stdout",
     "output_type": "stream",
     "text": [
      "Model: \"model\"\n",
      "_________________________________________________________________\n",
      " Layer (type)                Output Shape              Param #   \n",
      "=================================================================\n",
      " input_1 (InputLayer)        [(None, 30493)]           0         \n",
      "                                                                 \n",
      " dense (Dense)               (None, 64)                1951616   \n",
      "                                                                 \n",
      " dense_1 (Dense)             (None, 30493)             1982045   \n",
      "                                                                 \n",
      "=================================================================\n",
      "Total params: 3,933,661\n",
      "Trainable params: 3,933,661\n",
      "Non-trainable params: 0\n",
      "_________________________________________________________________\n",
      "None\n"
     ]
    }
   ],
   "source": [
    "print(model.summary())"
   ]
  },
  {
   "cell_type": "markdown",
   "id": "846d8cda",
   "metadata": {},
   "source": [
    "# Train NNet"
   ]
  },
  {
   "cell_type": "code",
   "execution_count": 53,
   "id": "f1ca2ee2",
   "metadata": {},
   "outputs": [],
   "source": [
    "os.environ[\"CUDA_VISIBLE_DEVICES\"] = \"\""
   ]
  },
  {
   "cell_type": "code",
   "execution_count": 54,
   "id": "6a1c6933",
   "metadata": {},
   "outputs": [
    {
     "data": {
      "text/plain": [
       "[PhysicalDevice(name='/physical_device:CPU:0', device_type='CPU'),\n",
       " PhysicalDevice(name='/physical_device:GPU:0', device_type='GPU')]"
      ]
     },
     "execution_count": 54,
     "metadata": {},
     "output_type": "execute_result"
    }
   ],
   "source": [
    "tf.config.list_physical_devices()"
   ]
  },
  {
   "cell_type": "code",
   "execution_count": 56,
   "id": "9054ccf1",
   "metadata": {
    "scrolled": true
   },
   "outputs": [
    {
     "name": "stdout",
     "output_type": "stream",
     "text": [
      "Epoch 1/2\n"
     ]
    },
    {
     "name": "stderr",
     "output_type": "stream",
     "text": [
      "2022-12-14 00:41:08.188508: W tensorflow/core/platform/profile_utils/cpu_utils.cc:128] Failed to get CPU frequency: 0 Hz\n",
      "2022-12-14 00:41:08.614584: I tensorflow/core/grappler/optimizers/custom_graph_optimizer_registry.cc:114] Plugin optimizer for device_type GPU is enabled.\n"
     ]
    },
    {
     "name": "stdout",
     "output_type": "stream",
     "text": [
      "177/177 [==============================] - 130s 725ms/step - loss: 9.4458\n",
      "Epoch 2/2\n",
      "177/177 [==============================] - 113s 638ms/step - loss: 8.6950\n"
     ]
    }
   ],
   "source": [
    "hist = model.fit(\n",
    "    dgen,\n",
    "    epochs=2,\n",
    ")"
   ]
  },
  {
   "cell_type": "markdown",
   "id": "9becc4bf",
   "metadata": {},
   "source": [
    "# Performance Stats"
   ]
  },
  {
   "cell_type": "code",
   "execution_count": 58,
   "id": "c025f17b",
   "metadata": {},
   "outputs": [
    {
     "name": "stdout",
     "output_type": "stream",
     "text": [
      "[9.445782661437988, 8.695038795471191]\n"
     ]
    },
    {
     "data": {
      "image/png": "[encoded data removed]",
      "text/plain": [
       "<Figure size 640x480 with 1 Axes>"
      ]
     },
     "metadata": {},
     "output_type": "display_data"
    }
   ],
   "source": [
    "import matplotlib.pyplot as plt\n",
    "plt.plot(hist.history['loss'])\n",
    "print(hist.history['loss'])\n",
    "plt.show()"
   ]
  },
  {
   "cell_type": "markdown",
   "id": "bb665bb4",
   "metadata": {},
   "source": [
    "# Build word -> vector mapping"
   ]
  },
  {
   "cell_type": "code",
   "execution_count": 59,
   "id": "8200d622",
   "metadata": {},
   "outputs": [
    {
     "name": "stdout",
     "output_type": "stream",
     "text": [
      "[[-0.11126867 -0.09427209 -0.09337832 ...  0.09854616 -0.08415956\n",
      "  -0.08913873]\n",
      " [-0.09540839 -0.08412014 -0.10525997 ...  0.09173649 -0.0896446\n",
      "  -0.08133509]\n",
      " [-0.04920753 -0.05208136 -0.0416832  ...  0.0413714  -0.06480107\n",
      "  -0.05709199]\n",
      " ...\n",
      " [-0.09679751 -0.07259592 -0.09770514 ...  0.10488999 -0.0676935\n",
      "  -0.08613074]\n",
      " [-0.05164602 -0.04246502 -0.03612399 ...  0.04929443 -0.02840341\n",
      "  -0.02684001]\n",
      " [-0.02409529 -0.01494909 -0.02647165 ...  0.01866089 -0.02766721\n",
      "  -0.02764549]]\n",
      "(30493, 64)\n"
     ]
    }
   ],
   "source": [
    "weights = model.get_weights()[0]\n",
    "print(weights)\n",
    "print(weights.shape)\n",
    "word2vec = {}\n",
    "for word in wordset:\n",
    "    vec = weights[word2idx[word]]\n",
    "    word2vec[word] = vec"
   ]
  },
  {
   "cell_type": "markdown",
   "id": "8d454390",
   "metadata": {},
   "source": [
    "# Check pair counts"
   ]
  },
  {
   "cell_type": "code",
   "execution_count": 62,
   "id": "25ce596c",
   "metadata": {},
   "outputs": [
    {
     "name": "stdout",
     "output_type": "stream",
     "text": [
      "4492998\n",
      "1775754\n",
      "The top 100 occuring pairs\n",
      "1 2799 ('biden', 'joe')\n",
      "2 2799 ('joe', 'biden')\n",
      "3 2758 ('state', 'united')\n",
      "4 2758 ('united', 'state')\n",
      "5 1592 ('i', 'i')\n",
      "6 1346 ('i', 'mean')\n",
      "7 1346 ('mean', 'i')\n",
      "8 1269 ('think', 'i')\n",
      "9 1269 ('i', 'think')\n",
      "10 1171 ('new', 'york')\n",
      "11 1171 ('york', 'new')\n",
      "12 1090 (\"that's\", \"that's\")\n",
      "13 948 ('shapiro', 'ben')\n",
      "14 948 ('ben', 'shapiro')\n",
      "15 910 ('going', \"we're\")\n",
      "16 910 (\"we're\", 'going')\n",
      "17 874 ('really', 'really')\n",
      "18 836 ('donald', 'trump')\n",
      "19 836 ('trump', 'donald')\n",
      "20 794 ('like', 'like')\n",
      "21 750 ('wire', 'daily')\n",
      "22 750 ('daily', 'wire')\n",
      "23 712 ('know', 'i')\n",
      "24 712 ('i', 'know')\n",
      "25 704 ('like', 'people')\n",
      "26 704 ('people', 'like')\n",
      "27 684 ('going', \"they're\")\n",
      "28 684 (\"they're\", 'going')\n",
      "29 661 ('white', 'house')\n",
      "30 661 ('house', 'white')\n",
      "31 649 ('supreme', 'court')\n",
      "32 649 ('court', 'supreme')\n",
      "33 615 ('shapiro', 'show')\n",
      "34 615 ('show', 'shapiro')\n",
      "35 592 ('people', 'people')\n",
      "36 591 ('show', 'ben')\n",
      "37 591 ('ben', 'show')\n",
      "38 566 ('like', 'i')\n",
      "39 566 ('i', 'like')\n",
      "40 562 (\"they're\", \"they're\")\n",
      "41 555 ('time', 'new')\n",
      "42 555 ('new', 'time')\n",
      "43 530 ('york', 'time')\n",
      "44 530 ('time', 'york')\n",
      "45 526 ('thing', 'one')\n",
      "46 526 ('one', 'thing')\n",
      "47 514 ('get', \"we'll\")\n",
      "48 514 (\"we'll\", 'get')\n",
      "49 501 ('like', 'look')\n",
      "50 501 ('look', 'like')\n",
      "51 499 ('state', 'president')\n",
      "52 499 ('president', 'state')\n",
      "53 489 ('president', 'united')\n",
      "54 489 ('united', 'president')\n",
      "55 482 ('thing', 'like')\n",
      "56 482 ('like', 'thing')\n",
      "57 471 ('party', 'democratic')\n",
      "58 471 ('democratic', 'party')\n",
      "59 468 ('know', 'know')\n",
      "60 461 ('know', 'like')\n",
      "61 461 ('like', 'know')\n",
      "62 440 ('lot', 'people')\n",
      "63 440 ('people', 'lot')\n",
      "64 433 ('right', \"that's\")\n",
      "65 433 ('i', 'say')\n",
      "66 433 ('say', 'i')\n",
      "67 433 (\"that's\", 'right')\n",
      "68 432 ('going', \"i'm\")\n",
      "69 432 (\"i'm\", 'going')\n",
      "70 422 ('going', 'going')\n",
      "71 405 ('one', 'get')\n",
      "72 405 ('get', 'one')\n",
      "73 402 ('administration', 'biden')\n",
      "74 402 ('biden', 'administration')\n",
      "75 401 ('people', 'know')\n",
      "76 401 ('know', 'people')\n",
      "77 400 (\"i'm\", \"i'm\")\n",
      "78 396 ('uh', 'uh')\n",
      "79 391 ('year', 'last')\n",
      "80 391 ('last', 'year')\n",
      "81 387 ('code', 'shapiro')\n",
      "82 387 ('shapiro', 'code')\n",
      "83 383 ('code', 'promo')\n",
      "84 383 ('promo', 'code')\n",
      "85 380 ('bit', 'little')\n",
      "86 380 ('little', 'bit')\n",
      "87 378 ('first', 'one')\n",
      "88 378 ('one', 'first')\n",
      "89 372 ('single', 'every')\n",
      "90 372 ('every', 'single')\n",
      "91 370 ('right', 'right')\n",
      "92 366 ('washington', 'post')\n",
      "93 366 ('post', 'washington')\n",
      "94 365 ('make', 'sure')\n",
      "95 365 ('sure', 'make')\n",
      "96 364 (\"he's\", \"he's\")\n",
      "97 347 ('obama', 'barack')\n",
      "98 347 ('barack', 'obama')\n",
      "99 339 ('right', 'like')\n",
      "100 339 ('thing', \"here's\")\n"
     ]
    }
   ],
   "source": [
    "print(len(pairs))\n",
    "print(len(set(pairs)))\n",
    "s = set(pairs)\n",
    "counts = {}\n",
    "for p in pairs:\n",
    "    if p not in counts:\n",
    "        counts[p] = 1\n",
    "    else:\n",
    "        counts[p] = counts[p]+1\n",
    "sortedpairs = sorted(list(s), key=lambda p: counts[p], reverse=True)\n",
    "N = 100\n",
    "print(f'The top {N} occuring pairs')\n",
    "for i, p in enumerate(sortedpairs[:N], start=1):\n",
    "    print(i, counts[p], p)"
   ]
  },
  {
   "cell_type": "markdown",
   "id": "a5a63c8a",
   "metadata": {},
   "source": [
    "# Get nearest neighbors"
   ]
  },
  {
   "cell_type": "code",
   "execution_count": 64,
   "id": "e8c96215",
   "metadata": {},
   "outputs": [
    {
     "name": "stdout",
     "output_type": "stream",
     "text": [
      "(64,)\n",
      "0  0.0    biden\n",
      "1  0.081  collette\n",
      "2  0.083  hardwick\n",
      "3  0.084  sequoia\n",
      "4  0.084  inferno\n",
      "5  0.085  opportunistic\n",
      "6  0.085  poultry\n",
      "7  0.086  ghoul\n",
      "8  0.086  sirota\n",
      "9  0.086  elligan\n"
     ]
    }
   ],
   "source": [
    "targetWord = 'biden'\n",
    "v = word2vec[targetWord]\n",
    "print(v.shape)\n",
    "\n",
    "dists = {}\n",
    "for word, vec in word2vec.items():\n",
    "    d = np.linalg.norm(v - vec)\n",
    "    dists[word] = d\n",
    "\n",
    "allwords = list(wordset)\n",
    "allwords = sorted(allwords, key=lambda w: dists[w])\n",
    "N = 10\n",
    "for i in range(N):\n",
    "    d = dists[allwords[i]]\n",
    "    print(f\"{i:<2} {str(round(d, 3)):<6} {allwords[i]}\")"
   ]
  },
  {
   "cell_type": "markdown",
   "id": "573f5db8",
   "metadata": {},
   "source": [
    "# Export wordset\n",
    "This is just so you can search for queryable words."
   ]
  },
  {
   "cell_type": "code",
   "execution_count": null,
   "id": "2f87618a",
   "metadata": {},
   "outputs": [],
   "source": [
    "wordtext = '\\n'.join(wordset)\n",
    "with open('wordset.txt', 'w') as file:\n",
    "    file.write(wordtext)\n",
    "    print('WROTE FILE')"
   ]
  },
  {
   "cell_type": "code",
   "execution_count": null,
   "id": "7035685b",
   "metadata": {},
   "outputs": [],
   "source": []
  }
 ],
 "metadata": {
  "kernelspec": {
   "display_name": "Python 3 (ipykernel)",
   "language": "python",
   "name": "python3"
  },
  "language_info": {
   "codemirror_mode": {
    "name": "ipython",
    "version": 3
   },
   "file_extension": ".py",
   "mimetype": "text/x-python",
   "name": "python",
   "nbconvert_exporter": "python",
   "pygments_lexer": "ipython3",
   "version": "3.9.12"
  }
 },
 "nbformat": 4,
 "nbformat_minor": 5
}
